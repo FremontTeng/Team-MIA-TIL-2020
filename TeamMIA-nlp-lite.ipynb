{
 "cells": [
  {
   "cell_type": "markdown",
   "metadata": {},
   "source": [
    "# NLP"
   ]
  },
  {
   "cell_type": "markdown",
   "metadata": {},
   "source": [
    "## Import necessary libraries"
   ]
  },
  {
   "cell_type": "code",
   "execution_count": 64,
   "metadata": {},
   "outputs": [],
   "source": [
    "import numpy as np\n",
    "import pandas as pd\n",
    "\n",
    "from sklearn.model_selection import train_test_split\n",
    "from sklearn.metrics import accuracy_score, f1_score\n",
    "from sklearn.feature_extraction.text import CountVectorizer\n",
    "from sklearn.feature_extraction.text import TfidfTransformer\n",
    "from sklearn.feature_extraction.text import TfidfVectorizer\n",
    "from sklearn import preprocessing\n",
    "from sklearn.linear_model import LogisticRegression\n",
    "\n",
    "import tensorflow as tf\n",
    "import tensorflow.keras\n",
    "import re\n",
    "import keras\n",
    "from keras.layers import Dense, Input, LSTM, Embedding, Dropout, Activation, GRU\n",
    "from keras.layers import Bidirectional, GlobalMaxPool1D, Conv1D, GlobalAveragePooling1D, concatenate\n",
    "from keras.models import Model, Sequential\n",
    "from keras import initializers, regularizers, constraints, optimizers, layers\n",
    "from keras.callbacks import CSVLogger, ReduceLROnPlateau, ModelCheckpoint "
   ]
  },
  {
   "cell_type": "markdown",
   "metadata": {},
   "source": [
    "## Import Dataset"
   ]
  },
  {
   "cell_type": "code",
   "execution_count": 66,
   "metadata": {},
   "outputs": [],
   "source": [
    "# Reading the csv files\n",
    "fashion_df = pd.read_csv(\"./datasets/fashion_text_dataset.csv\")"
   ]
  },
  {
   "cell_type": "code",
   "execution_count": 68,
   "metadata": {},
   "outputs": [
    {
     "output_type": "execute_result",
     "data": {
      "text/plain": "                           description        category\n0              Sless Flippy Mini Dress   women dresses\n1                   Midi Pleated Skirt    women skirts\n2  Stamos Mix Silk Raglan Knit Sweater     men outwear\n3              Basic Training Tank Top        men tops\n4     Fashion Camouflage Hooded Jacket   women outwear\n5              Straight Leg Sweatpants    men trousers\n6                     Hooded Pull Over     men outwear\n7             Ally 3/4 Spring Pullover   women outwear\n8                Cropped Pleated Pants  women trousers\n9       NB Athletics Archive Run Pants    men trousers",
      "text/html": "<div>\n<style scoped>\n    .dataframe tbody tr th:only-of-type {\n        vertical-align: middle;\n    }\n\n    .dataframe tbody tr th {\n        vertical-align: top;\n    }\n\n    .dataframe thead th {\n        text-align: right;\n    }\n</style>\n<table border=\"1\" class=\"dataframe\">\n  <thead>\n    <tr style=\"text-align: right;\">\n      <th></th>\n      <th>description</th>\n      <th>category</th>\n    </tr>\n  </thead>\n  <tbody>\n    <tr>\n      <th>0</th>\n      <td>Sless Flippy Mini Dress</td>\n      <td>women dresses</td>\n    </tr>\n    <tr>\n      <th>1</th>\n      <td>Midi Pleated Skirt</td>\n      <td>women skirts</td>\n    </tr>\n    <tr>\n      <th>2</th>\n      <td>Stamos Mix Silk Raglan Knit Sweater</td>\n      <td>men outwear</td>\n    </tr>\n    <tr>\n      <th>3</th>\n      <td>Basic Training Tank Top</td>\n      <td>men tops</td>\n    </tr>\n    <tr>\n      <th>4</th>\n      <td>Fashion Camouflage Hooded Jacket</td>\n      <td>women outwear</td>\n    </tr>\n    <tr>\n      <th>5</th>\n      <td>Straight Leg Sweatpants</td>\n      <td>men trousers</td>\n    </tr>\n    <tr>\n      <th>6</th>\n      <td>Hooded Pull Over</td>\n      <td>men outwear</td>\n    </tr>\n    <tr>\n      <th>7</th>\n      <td>Ally 3/4 Spring Pullover</td>\n      <td>women outwear</td>\n    </tr>\n    <tr>\n      <th>8</th>\n      <td>Cropped Pleated Pants</td>\n      <td>women trousers</td>\n    </tr>\n    <tr>\n      <th>9</th>\n      <td>NB Athletics Archive Run Pants</td>\n      <td>men trousers</td>\n    </tr>\n  </tbody>\n</table>\n</div>"
     },
     "metadata": {},
     "execution_count": 68
    }
   ],
   "source": [
    "# Showing the first few columns of the dataset\n",
    "fashion_df.head(10)"
   ]
  },
  {
   "cell_type": "code",
   "execution_count": 70,
   "metadata": {},
   "outputs": [
    {
     "output_type": "execute_result",
     "data": {
      "text/plain": "description    2000\ncategory       2000\ndtype: int64"
     },
     "metadata": {},
     "execution_count": 70
    }
   ],
   "source": [
    "fashion_df.count()"
   ]
  },
  {
   "cell_type": "markdown",
   "metadata": {},
   "source": [
    "# Information of the dataset"
   ]
  },
  {
   "cell_type": "markdown",
   "metadata": {},
   "source": [
    "## Create a bag of words"
   ]
  },
  {
   "cell_type": "code",
   "execution_count": 72,
   "metadata": {},
   "outputs": [
    {
     "output_type": "stream",
     "name": "stdout",
     "text": "(2000, 1538)\n"
    }
   ],
   "source": [
    "docs = map(''.join, fashion_df[['description']].values.tolist())\n",
    "\n",
    "cv = CountVectorizer(stop_words=\"english\", \n",
    "                        analyzer='word', \n",
    "                        ngram_range=(1, 1), \n",
    "                        max_df=1.0, min_df=1, \n",
    "                        max_features=None)\n",
    "\n",
    "\n",
    "# Generates word count for the words in the docs\n",
    "word_count_vector = cv.fit_transform(docs)\n",
    "print(word_count_vector.shape)"
   ]
  },
  {
   "cell_type": "markdown",
   "metadata": {},
   "source": [
    "## Get more insights from IDF & TFIDF"
   ]
  },
  {
   "cell_type": "code",
   "execution_count": 74,
   "metadata": {},
   "outputs": [
    {
     "output_type": "execute_result",
     "data": {
      "text/plain": "             idf\nshorts  3.060139\nskirt   3.240110\ndress   3.273526\nshirt   3.313135\nsleeve  3.624669\npants   3.681421\njacket  3.757215\nmidi    3.957011\nfit     3.966673\nshort   4.016435",
      "text/html": "<div>\n<style scoped>\n    .dataframe tbody tr th:only-of-type {\n        vertical-align: middle;\n    }\n\n    .dataframe tbody tr th {\n        vertical-align: top;\n    }\n\n    .dataframe thead th {\n        text-align: right;\n    }\n</style>\n<table border=\"1\" class=\"dataframe\">\n  <thead>\n    <tr style=\"text-align: right;\">\n      <th></th>\n      <th>idf</th>\n    </tr>\n  </thead>\n  <tbody>\n    <tr>\n      <th>shorts</th>\n      <td>3.060139</td>\n    </tr>\n    <tr>\n      <th>skirt</th>\n      <td>3.240110</td>\n    </tr>\n    <tr>\n      <th>dress</th>\n      <td>3.273526</td>\n    </tr>\n    <tr>\n      <th>shirt</th>\n      <td>3.313135</td>\n    </tr>\n    <tr>\n      <th>sleeve</th>\n      <td>3.624669</td>\n    </tr>\n    <tr>\n      <th>pants</th>\n      <td>3.681421</td>\n    </tr>\n    <tr>\n      <th>jacket</th>\n      <td>3.757215</td>\n    </tr>\n    <tr>\n      <th>midi</th>\n      <td>3.957011</td>\n    </tr>\n    <tr>\n      <th>fit</th>\n      <td>3.966673</td>\n    </tr>\n    <tr>\n      <th>short</th>\n      <td>4.016435</td>\n    </tr>\n  </tbody>\n</table>\n</div>"
     },
     "metadata": {},
     "execution_count": 74
    }
   ],
   "source": [
    "# ---  IDF  ---\n",
    "tfidf_transformer=TfidfTransformer(smooth_idf=True,use_idf=True)\n",
    "tfidf_transformer.fit(word_count_vector)\n",
    " \n",
    "# idf values\n",
    "df_idf = pd.DataFrame(tfidf_transformer.idf_, index=cv.get_feature_names(),columns=[\"idf\"])\n",
    " \n",
    "# sort ascending\n",
    "df_idf = df_idf.sort_values(by=['idf'])\n",
    "df_idf.head(10)"
   ]
  },
  {
   "cell_type": "code",
   "execution_count": 76,
   "metadata": {},
   "outputs": [
    {
     "output_type": "execute_result",
     "data": {
      "text/plain": "             tfidf\nsless     0.640754\nflippy    0.607902\nmini      0.386706\ndress     0.265232\n0002      0.000000\nprem      0.000000\nprairie   0.000000\npower     0.000000\npostgame  0.000000\npopover   0.000000",
      "text/html": "<div>\n<style scoped>\n    .dataframe tbody tr th:only-of-type {\n        vertical-align: middle;\n    }\n\n    .dataframe tbody tr th {\n        vertical-align: top;\n    }\n\n    .dataframe thead th {\n        text-align: right;\n    }\n</style>\n<table border=\"1\" class=\"dataframe\">\n  <thead>\n    <tr style=\"text-align: right;\">\n      <th></th>\n      <th>tfidf</th>\n    </tr>\n  </thead>\n  <tbody>\n    <tr>\n      <th>sless</th>\n      <td>0.640754</td>\n    </tr>\n    <tr>\n      <th>flippy</th>\n      <td>0.607902</td>\n    </tr>\n    <tr>\n      <th>mini</th>\n      <td>0.386706</td>\n    </tr>\n    <tr>\n      <th>dress</th>\n      <td>0.265232</td>\n    </tr>\n    <tr>\n      <th>0002</th>\n      <td>0.000000</td>\n    </tr>\n    <tr>\n      <th>prem</th>\n      <td>0.000000</td>\n    </tr>\n    <tr>\n      <th>prairie</th>\n      <td>0.000000</td>\n    </tr>\n    <tr>\n      <th>power</th>\n      <td>0.000000</td>\n    </tr>\n    <tr>\n      <th>postgame</th>\n      <td>0.000000</td>\n    </tr>\n    <tr>\n      <th>popover</th>\n      <td>0.000000</td>\n    </tr>\n  </tbody>\n</table>\n</div>"
     },
     "metadata": {},
     "execution_count": 76
    }
   ],
   "source": [
    "# ---  TFIDF  ---\n",
    "# tf-idf scores\n",
    "tf_idf_vector=tfidf_transformer.transform(word_count_vector)\n",
    "\n",
    "feature_names = cv.get_feature_names()\n",
    " \n",
    "#get tfidf vector for first document\n",
    "first_document_vector=tf_idf_vector[0]\n",
    " \n",
    "#print the scores\n",
    "df = pd.DataFrame(first_document_vector.T.todense(), index=feature_names, columns=[\"tfidf\"])\n",
    "df = df.sort_values(by=[\"tfidf\"],ascending=False)\n",
    "df.head(10)"
   ]
  },
  {
   "cell_type": "markdown",
   "metadata": {},
   "source": [
    "## TFIDF Embedding"
   ]
  },
  {
   "cell_type": "code",
   "execution_count": 78,
   "metadata": {
    "scrolled": true
   },
   "outputs": [
    {
     "output_type": "stream",
     "name": "stdout",
     "text": "Length of vocab:  1538\nSample of vocab ['0002', '0004', '0005', '0006', '0007', '0011', '0012', '0016', '0096', '0175', '0241', '026', '035', '056', '10k', '119', '129', '18882', '18883', '18884', '19', '1979', '237', '28', '2c', '2pcs', '2x', '30', '3031', '3060', '360', '36272', '37', '3d', '3s', '430', '4g', '50', '505', '511', '52797', '54', '59406', '59407', '59463', '596346', '5palle', '60', '66', '705', '712', '720', '721', '724', '779', '78', '790', '79488', '79697', '90', '90s', '93308w', '93343', '93368w', '93417w', 'a003', 'a249', 'ab', 'abrig', 'abstract', 'ac', 'accent', 'accordian', 'acid', 'action', 'activchill', 'active', 'ad', 'adda', 'ader', 'adidas', 'adjustable', 'adrian', 'aery', 'aiden', 'air', 'aja', 'alchemy', 'alex', 'alice', 'ally', 'aloha', 'altitude', 'alvia', 'amari', 'amelie', 'american', 'amnig', 'ams', 'animal', 'ankle', 'ann', 'anorak', 'anthoney', 'antonia', 'aop', 'août', 'applique', 'ar', 'arch', 'archive', 'arctic', 'arden', 'armour', 'army', 'asia', 'asymmetric', 'asymmetrical', 'athleisure', 'athlete', 'athletic', 'athletics', 'attacker', 'aubergine', 'authentic', 'autumn', 'autumnal', 'axis', 'baby', 'babydoll', 'badge', 'bag', 'balboa', 'ball', 'baloon', 'band', 'bardot', 'bare', 'barnett', 'barney', 'barre', 'barro', 'baseball', 'baseline', 'basic', 'batwing', 'bay', 'bea', 'beach', 'beaded', 'bear', 'bedford', 'beige', 'bellista', 'belt', 'belted', 'ben', 'bergman', 'bermuda', 'bermudas', 'bessin', 'bestwick', 'bf', 'bias', 'bicolor', 'bicycle', 'big', 'biker', 'billboard', 'billie', 'billy', 'binea', 'birdie', 'biter', 'black', 'blake', 'blauw', 'blazer', 'blend', 'blended', 'blinders', 'block', 'blocking', 'blossom', 'blouse', 'blouses', 'blowout', 'blue', 'blush', 'boardshorts', 'boardy', 'boat', 'bodega', 'body', 'bodycon', 'bodysuit', 'boho', 'bolt', 'bomb', 'bomber', 'booty', 'borg', 'bos', 'boss', 'bossini', 'bottoms', 'boucle', 'bow', 'box', 'boxy', 'boy', 'boyfriend', 'brad', 'brand', 'breast', 'breasted', 'breathylon', 'brenda', 'brett', 'bright', 'british', 'britney', 'broadley', 'brody', 'brown', 'brushed', 'bt', 'bts', 'buckle', 'buffalo', 'bull', 'bum', 'burgundy', 'burnout', 'button', 'buttoned', 'buttons', 'cable', 'cahne', 'caleb', 'calf', 'cali', 'california', 'calvin', 'camel', 'cami', 'camo', 'camoflouge', 'camouflage', 'camp', 'canaletto', 'canvas', 'cap', 'cape', 'capri', 'capris', 'cara', 'cardigan', 'cargo', 'carnival', 'carter', 'cartter', 'cascade', 'cassandra', 'castro', 'casual', 'catelyn', 'cedar', 'celebration', 'celestina', 'celsius', 'center', 'cest', 'chai', 'chain', 'chambray', 'champion', 'charcoal', 'charged', 'charlize', 'check', 'checkboard', 'checked', 'checkered', 'cheetah', 'chest', 'chevron', 'chic', 'chiffon', 'chino', 'chinos', 'choc', 'chris', 'chrissy', 'christmas', 'cigarette', 'cindy', 'circle', 'city', 'ck', 'ckj', 'cl', 'clark', 'clash', 'classic', 'classics', 'cleo', 'cliff', 'climachill', 'clive', 'closet', 'cloud', 'club', 'cny', 'coast', 'coat', 'coated', 'cobra', 'cold', 'collar', 'collared', 'collarless', 'collection', 'collections', 'collier', 'collin', 'color', 'colorblock', 'colour', 'colourblock', 'coloured', 'comfort', 'comfortable', 'concealed', 'conner', 'contrast', 'converse', 'cool', 'coraille', 'cord', 'corduroy', 'core', 'cornelia', 'corp', 'corset', 'cotton', 'county', 'cover', 'cozy', 'cp', 'crafted', 'crazy', 'cream', 'crepe', 'crescent', 'crest', 'crew', 'crewneck', 'crinkle', 'crocodile', 'crombie', 'crop', 'cropped', 'cross', 'crossed', 'crystal', 'cuff', 'cuffed', 'culotte', 'culottes', 'curve', 'curved', 'cut', 'cycle', 'cycling', 'dad', 'daffy', 'daisy', 'dance', 'dark', 'day', 'dean', 'debora', 'defacto', 'degrade', 'delaware3', 'denim', 'denizen', 'density', 'departure', 'desert', 'destroyed', 'detachable', 'detailed', 'details', 'dial', 'diamante', 'diecut', 'dillon', 'dime', 'dip', 'distressed', 'ditsy', 'divine', 'dobby', 'doccer', 'dockers', 'doffy', 'dogtooth', 'doll', 'donovan', 'dot', 'double', 'downhill', 'dp', 'drape', 'draped', 'drawstring', 'dress', 'dresses', 'dresss', 'drop', 'dropped', 'dry', 'drying', 'dua', 'dual', 'duke', 'dunk', 'duster', 'dye', 'early', 'earn', 'easy', 'eclipse', 'eco', 'ecru', 'eden', 'edge', 'edges', 'edging', 'edit', 'edition', 'elastic', 'elasticised', 'elegant', 'element', 'eletta', 'elite', 'ellesse', 'emalia', 'emblem', 'emboss', 'embossed', 'embroidered', 'embroidery', 'emilie', 'emma', 'emmalyn', 'emsie', 'end', 'entry', 'epic', 'era', 'eric', 'error', 'ervina', 'espresso', 'ess', 'essential', 'essentials', 'etta', 'evening', 'exposed', 'extended', 'extensions', 'eyelet', 'eyez', 'fabric', 'face', 'fade', 'fake', 'famme', 'fang', 'fantasy', 'fashion', 'fast', 'faux', 'favorite', 'favour', 'fbt', 'field', 'fight', 'fila', 'fine', 'finsen', 'fireball', 'fish', 'fishtail', 'fishtale', 'fit', 'fitness', 'fitted', 'fl_spr', 'flag', 'flamestrk', 'flannel', 'flap', 'flare', 'flared', 'flashback', 'flat', 'fleck', 'fleece', 'flex', 'flexx', 'flippy', 'flirt', 'flmp', 'floor', 'floral', 'flores', 'flounce', 'flower', 'flowy', 'fluffy', 'flute', 'fluted', 'flutter', 'fly', 'flyer', 'foil', 'fold', 'folded', 'foldover', 'foliage', 'font', 'foot', 'form', 'foundation', 'frankie', 'frayed', 'freelift', 'freelift_sport', 'french', 'frill', 'frilled', 'fringe', 'fringed', 'frost', 'fruit', 'fubar', 'fuji', 'fulton', 'functional', 'funnel', 'fur', 'fusion', 'fz', 'gabardine', 'gabbi', 'galactic', 'galaxy', 'gathered', 'gauche', 'gauzy', 'geo', 'geogina', 'geometric', 'george', 'georgia', 'gfx', 'gift', 'gilet', 'gingham', 'ginny', 'glam', 'glass', 'glitter', 'globe', 'glory', 'gold', 'goldie', 'goods', 'gordon', 'gored', 'gps', 'gradient', 'grand', 'grandad', 'grant', 'graphic', 'graphics', 'grazer', 'green', 'grey', 'grit', 'guess', 'gworld', 'gym', 'half', 'halfrida', 'halter', 'hamilton', 'handkerchief', 'hannon', 'hansen', 'harden', 'harlyn', 'harmony', 'harrington', 'harriotte', 'haves', 'hayden', 'hayley', 'hd', 'hea', 'heart', 'heatgear', 'heather', 'heathertech', 'heavy', 'hello', 'hem', 'henley', 'heritage', 'hg', 'hi', 'high', 'highlight', 'hiker', 'himba782ovd', 'hoddie', 'hoff', 'holmen', 'hood', 'hooded', 'hoodie', 'hoodies', 'hoody', 'hopkins', 'hot', 'houndstooth', 'house', 'housemark', 'hr', 'hunter', 'hybrid', 'hynda', 'hz7022', 'hz7023', 'i581083', 'ice', 'icon', 'iconic', 'id', 'ignition', 'ii', 'iii', 'ikuno', 'inch', 'inches', 'indie', 'indigo', 'inez', 'infill', 'informal', 'inner', 'insert', 'inserts', 'institutional', 'int', 'intdaisyprintculotte', 'interlock', 'international', 'inverted', 'iron', 'irregular', 'irving', 'isn', 'ivory', 'jacey', 'jacket', 'jackets', 'jacob', 'jacquard', 'jacqueline', 'james', 'jamie', 'japan', 'jared', 'jaylah', 'jdi', 'jeans', 'jeff', 'jegging', 'jeggings', 'jenn', 'jenna', 'jennifer', 'jers', 'jersey', 'joey', 'jog', 'jogger', 'joggers', 'jogging', 'john', 'jorbuds', 'jorcall', 'joshua', 'joy', 'jubah', 'judas', 'jude', 'jumper', 'jupiter', 'k208', 'kaiya', 'kay', 'kelly', 'kendall', 'kendra', 'kenzie', 'khaki', 'khakis', 'kickflare', 'kimono', 'kitty', 'klein', 'knee', 'knit', 'knitted', 'knitwear', 'knot', 'knotted', 'korea', 'korean', 'kurung', 'kyoto', 'la', 'label', 'lace', 'laguna', 'lapel', 'lapelled', 'laser', 'launch', 'laurel', 'layback', 'layer', 'layered', 'layers', 'lazlo', 'leaf', 'leather', 'left', 'leg', 'legend', 'legged', 'legging', 'leggings', 'leigh', 'lella', 'lemon', 'length', 'leo', 'leopard', 'lettuce', 'levi', 'lewis', 'liam', 'life', 'lifesweatshirt', 'lifting', 'light', 'lightweight', 'like', 'limited', 'line', 'linear', 'lined', 'linen', 'lines', 'lining', 'lion', 'lipa', 'lisa', 'lite', 'lm', 'lo', 'lock', 'logo', 'logocon', 'lola', 'long', 'longline', 'loop', 'loose', 'lottie', 'lotus', 'low', 'ls', 'lucas', 'luke', 'lurex', 'lux', 'luxe', 'm17', 'm20', 'macchiato', 'maddy', 'magnet', 'maison', 'maisy', 'man', 'manager', 'mandarin', 'manipulate', 'manipulated', 'marco', 'mark', 'marl', 'marlene', 'massha', 'matcha', 'matching', 'mateo', 'material', 'maternity', 'mathieu', 'matteo', 'maverick', 'maxi', 'media', 'medium', 'meet', 'meg', 'mehru', 'mel', 'melange', 'men', 'mennace', 'mens', 'menswear', 'mermaid', 'mesh', 'metallic', 'mexico', 'mh', 'mialle', 'michelle', 'micro', 'microfibre', 'microprint', 'mid', 'midaxi', 'midi', 'midwash', 'midweight', 'mikkola', 'miler', 'military', 'miller', 'mina', 'mini', 'minimal', 'mint', 'mirage', 'mirna', 'missguided', 'misty', 'mix', 'mixed', 'mk', 'mk1', 'mock', 'modern', 'mom', 'mono', 'monochrome', 'monogram', 'montana', 'morgan', 'mori', 'morris', 'mosaic', 'moto', 'msgd', 'multi', 'muscle', 'mustard', 'mylolind', 'nadare', 'nautical', 'navy', 'nb', 'neck', 'needle', 'nelson', 'net', 'new', 'newport', 'nhiz', 'nike', 'non', 'norah', 'normal', 'nova', 'novelty', 'nude', 'nutcracker', 'nyc', 'obey', 'oceanic', 'ochre', 'offside', 'og', 'ol', 'olive', 'ombre', 'onsmike', 'onsrain', 'op', 'open', 'openwork', 'optiks', 'orange', 'ord', 'ords', 'organic', 'original', 'originale', 'originals', 'ost', 'outer', 'outline', 'overall', 'overcast', 'overcoat', 'overdye', 'overhead', 'overlap', 'overlay', 'overshirt', 'oversize', 'oversized', 'oxford', 'pacey', 'pack', 'packable', 'padded', 'painted', 'paisley', 'pajama', 'palazzo', 'pale', 'pallas', 'palm', 'pamela', 'panel', 'paneled', 'panelled', 'pant', 'pants', 'paper', 'paperbag', 'parachute', 'pareo', 'paris', 'parka', 'parlay', 'patch', 'pattern', 'patterned', 'peace', 'pearl', 'peasant', 'pebble', 'pelmet', 'pencil', 'penny', 'pepe', 'peplum', 'peppermint', 'perf', 'performance', 'perry', 'petal', 'petite', 'pg', 'phone', 'phx', 'pinafore', 'pink', 'pinstripe', 'pintucks', 'piper', 'piping', 'pique', 'piqué', 'pktakm', 'pkthnn', 'pktviy', 'placement', 'placket', 'plaid', 'plain', 'play', 'playful', 'pleat', 'pleated', 'pleats', 'plisse', 'plunge', 'plus', 'plush', 'pocket', 'pockets', 'podium', 'pointelle', 'polar', 'polka', 'polo', 'ponte', 'pop', 'poplin', 'popover', 'postgame', 'power', 'prairie', 'prem', 'premium', 'preppy', 'prime', 'prince', 'print', 'printbest', 'printed', 'pro', 'project', 'prussian', 'pt', 'pu', 'puff', 'puffed', 'puffer', 'puffy', 'pull', 'pullover', 'puma', 'punk', 'purple', 'purpose', 'pyramid', 'qualifier', 'quality', 'queenstown', 'quick', 'quik', 'quilt', 'quilted', 'race', 'racer', 'rachel', 'racing', 'raffy', 'raglan', 'rainbow', 'rainshadow', 'rally', 'randomevent', 'range', 'rapid', 'rat', 'rattan', 'raven', 'raw', 'rdet', 'ready', 'recheck', 'recover', 'recovery', 'recycled', 'red', 'reebok', 'reena', 'reflection', 'reflective', 'reflex', 'reg', 'regular', 'relaxed', 'reoparudo', 'research', 'retro', 'revere', 'reversed', 'reversible', 'revitalize', 'revolve', 'rib', 'ribbed', 'ribbon', 'rick', 'rihanna', 'rikki', 'ring', 'ringer', 'rip', 'ripped', 'rise', 'rival', 'rive', 'riviera', 'rl', 'roadside', 'rock', 'roll', 'rolled', 'roller', 'rollsleeve', 'rookie', 'rope', 'rose', 'round', 'rowan', 'rpd', 'ruched', 'ruffle', 'ruffled', 'ruffles', 'rugby', 'run', 'runa', 'running', 'runway', 'rush', 'rust', 'ryley', 'sable', 'sadie', 'sand', 'sandleford', 'sandra', 'sapphire', 'sateen', 'satin', 'scallop', 'scarab', 'scarf', 'schiffli', 'schino', 'scoop', 'scotch', 'script', 'scuba', 'sculpted', 'sd', 'seam', 'seamfree', 'seamless', 'seams', 'seasons', 'seersucker', 'select', 'self', 'selvedge', 'semi', 'sequin', 'serge', 'series', 'service', 'set', 'sew', 'shacket', 'shaker', 'shale', 'shawl', 'shearling', 'sheath', 'sheer', 'shell', 'sherpa', 'shift', 'shimmer', 'shirred', 'shirt', 'shirts', 'short', 'shorts', 'shots', 'shoulder', 'shrunk', 'signature', 'silk', 'silver', 'simple', 'singapore', 'single', 'singlet', 'siri', 'size', 'skater', 'skinny', 'skirt', 'skirts', 'skort', 'skorts', 'skyline', 'slate', 'sleek', 'sleeping', 'sleeve', 'sleeveless', 'sleeves', 'sless', 'slh', 'slhthom', 'slice', 'slim', 'slimfit', 'slinky', 'slip', 'slit', 'slits', 'slogan', 'slub', 'smart', 'smock', 'smocked', 'smocking', 'snake', 'snakeskin', 'sofia', 'soft', 'solid', 'sophia', 'space', 'spacer', 'spaghetti', 'sparkle', 'special', 'speed', 'speedpocket', 'spicy', 'spinner', 'spirit', 'splater', 'spliced', 'split', 'sport', 'sports', 'sportstyle', 'sportswear', 'spot', 'spots', 'spray', 'spring', 'sprint', 'square', 'sskcslm1', 'stack', 'stadium', 'stamos', 'stand', 'standard', 'star', 'stargazer', 'stars', 'statement', 'stay', 'stefani', 'steffi', 'stellar', 'steven', 'stewie', 'stitch', 'stitching', 'stone', 'storm', 'story', 'straight', 'strap', 'streak', 'streaker', 'stretch', 'stretchable', 'stride', 'string', 'stripe', 'striped', 'stripes', 'structure', 'structured', 'studio', 'style', 'stylish', 'suede', 'suit', 'suite', 'sullivan', 'summer', 'sun', 'sundays', 'sunset', 'super', 'supernova', 'superstate', 'support', 'supremium', 'surf', 'surplice', 'sw', 'sweat', 'sweater', 'sweaters', 'sweatpant', 'sweatpants', 'sweatshirt', 'sweet', 'swim', 'swing', 'swiss', 'swoosh', 't7', 'tab', 'tabs', 'tag', 'tail', 'tailored', 'taiwan', 'talia', 'tall', 'tamara', 'tan', 'tank', 'tape', 'taped', 'taper', 'tapered', 'tara', 'tassel', 'tassle', 'tattersol', 'te', 'teagan', 'teal', 'tech', 'technical', 'technique', 'ted', 'teddy', 'tee', 'tellia', 'temp', 'tencel', 'tennis', 'terrain', 'terry', 'text', 'texture', 'textured', 'thea', 'theo', 'thermo', 'thread', 'threadborne', 'thunder', 'ticket', 'tie', 'tied', 'tiekimono', 'tier', 'tiered', 'tiger', 'tight', 'tights', 'tilly', 'tim', 'timeless', 'times', 'tina', 'tipped', 'tjm', 'toga', 'tokyo', 'tommy', 'tonal', 'tone', 'tortoise', 'towel', 'tower', 'tpr', 'tr', 'track', 'trackpants', 'tracksuit', 'tracktop', 'training', 'travel', 'treats', 'trefoil', 'trench', 'triangle', 'tricot', 'trim', 'trims', 'triple', 'tropical', 'tropics', 'trouser', 'trousers', 'truc', 'trucker', 'true', 'trumpet', 'ts', 'tshirt', 'tt', 'tube', 'tunic', 'turn', 'turtle', 'turtleneck', 'tweed', 'twill', 'twin', 'twist', 'twister', 'tyler', 'type', 'ua', 'ul', 'ultimate', 'ultra', 'unbrushed', 'uneven', 'unisex', 'unstoppable', 'upf', 'utility', 'van', 'vanish', 'vans', 'varied', 'varsity', 'vector', 'vegan', 'velocity', 'velvet', 'venice', 'vent', 'versatile', 'vesper', 'vest', 'victory', 'vie', 'vin', 'vincey', 'vintage', 'vinyl', 'viq', 'viscose', 'visionary', 'visions', 'viva', 'volley', 'vrct', 'w2', 'waffle', 'waist', 'waisted', 'walk', 'walker', 'wall', 'walter', 'warm', 'warning', 'wars', 'wash', 'washed', 'waterfall', 'waterproof', 'wavy', 'way', 'waytt', 'wb', 'wcc', 'weave', 'webb', 'webex', 'westa', 'wet', 'wg', 'white', 'whm', 'wide', 'wild', 'wind', 'windcheater', 'windjacket', 'windtrekker', 'wine', 'winners', 'winter', 'withslits', 'wolter', 'woman', 'women', 'womens', 'wool', 'woolen', 'wordmark', 'work', 'workout', 'wots', 'woven', 'wrap', 'wrapped', 'yarn', 'year', 'years', 'yellow', 'yhan', 'yoga', 'yoke', 'yvette', 'zalora', 'zaria', 'zebra', 'zip', 'ziphood', 'ziphoodie', 'zipped', 'zipper', 'zone', 'ztay']\n"
    }
   ],
   "source": [
    "# settings that you use for count vectorizer will go here\n",
    "tfidf_vectorizer=TfidfVectorizer(use_idf=True, \n",
    "                                 stop_words=\"english\", \n",
    "                                 analyzer='word', \n",
    "                                 ngram_range=(1, 1))\n",
    "\n",
    "docs = map(''.join, fashion_df[['description']].values.tolist())\n",
    "\n",
    "# just send in all your docs here\n",
    "tfidf_vectorizer_vectors = tfidf_vectorizer.fit_transform(docs)\n",
    "\n",
    "print('Length of vocab: ', len(tfidf_vectorizer.get_feature_names()))\n",
    "print('Sample of vocab', tfidf_vectorizer.get_feature_names()[:]) # Sample of features"
   ]
  },
  {
   "cell_type": "markdown",
   "metadata": {},
   "source": [
    "# Data Processing and Split data"
   ]
  },
  {
   "cell_type": "markdown",
   "metadata": {},
   "source": [
    "## Split data to Train and Validation Set"
   ]
  },
  {
   "cell_type": "code",
   "execution_count": 114,
   "metadata": {},
   "outputs": [],
   "source": [
    "# 80% Training 20% Validation\n",
    "_X_train, _X_test, y_train, y_test = train_test_split(fashion_df['description'], fashion_df['category'], test_size=0.2)"
   ]
  },
  {
   "cell_type": "markdown",
   "metadata": {},
   "source": [
    "## Include TFIDF to our model"
   ]
  },
  {
   "cell_type": "code",
   "execution_count": 82,
   "metadata": {},
   "outputs": [
    {
     "output_type": "stream",
     "name": "stdout",
     "text": "(1600, 4857)\n(400, 4857)\n"
    }
   ],
   "source": [
    "vect = TfidfVectorizer(ngram_range=(1, 2), \n",
    "                       stop_words='english', \n",
    "                       analyzer='word')\n",
    "vect.fit(_X_train)\n",
    "\n",
    "# _X_train and _X_test  --- vectorized ---> X_train and X_test\n",
    "X_train = vect.transform(_X_train)\n",
    "X_test = vect.transform(_X_test)\n",
    "\n",
    "print(X_train.shape)\n",
    "print(X_test.shape)"
   ]
  },
  {
   "cell_type": "markdown",
   "metadata": {},
   "source": [
    "# Training using Deep Neural Network"
   ]
  },
  {
   "cell_type": "code",
   "execution_count": null,
   "metadata": {},
   "outputs": [],
   "source": [
    "MAX_FEATURES = 2000\n",
    "MAX_LENGTH = 20\n",
    "EMBED_SIZE = 20\n",
    "BATCH_SIZE = 32\n",
    "EPOCHS = 5"
   ]
  },
  {
   "cell_type": "markdown",
   "metadata": {},
   "source": [
    "## Build the model"
   ]
  },
  {
   "cell_type": "code",
   "execution_count": 85,
   "metadata": {},
   "outputs": [
    {
     "output_type": "execute_result",
     "data": {
      "text/plain": "4857"
     },
     "metadata": {},
     "execution_count": 85
    }
   ],
   "source": [
    "X_train.shape[1]"
   ]
  },
  {
   "cell_type": "code",
   "execution_count": null,
   "metadata": {
    "scrolled": false
   },
   "outputs": [],
   "source": [
    "model = Sequential([\n",
    "    Dense(256,input_shape=(X_train.shape[1],),activation='relu'),\n",
    "    Dropout(0.5),\n",
    "    Dense(128,activation='relu'),\n",
    "    Dropout(0.2),\n",
    "    Dense(10,activation='softmax')\n",
    "])\n",
    "\n",
    "model.compile(loss=\"categorical_crossentropy\",optimizer=\"adam\",metrics=['acc'])"
   ]
  },
  {
   "cell_type": "code",
   "execution_count": 88,
   "metadata": {},
   "outputs": [
    {
     "output_type": "stream",
     "name": "stdout",
     "text": "Model: \"sequential_4\"\n_________________________________________________________________\nLayer (type)                 Output Shape              Param #   \n=================================================================\ndense_10 (Dense)             (None, 256)               1243648   \n_________________________________________________________________\ndropout_7 (Dropout)          (None, 256)               0         \n_________________________________________________________________\ndense_11 (Dense)             (None, 128)               32896     \n_________________________________________________________________\ndropout_8 (Dropout)          (None, 128)               0         \n_________________________________________________________________\ndense_12 (Dense)             (None, 10)                1290      \n=================================================================\nTotal params: 1,277,834\nTrainable params: 1,277,834\nNon-trainable params: 0\n_________________________________________________________________\n"
    }
   ],
   "source": [
    "model.summary()"
   ]
  },
  {
   "cell_type": "code",
   "execution_count": 90,
   "metadata": {},
   "outputs": [
    {
     "output_type": "execute_result",
     "data": {
      "text/plain": "array([[0., 0., 1., ..., 0., 0., 0.],\n       [0., 0., 0., ..., 0., 0., 0.],\n       [0., 0., 1., ..., 0., 0., 0.],\n       ...,\n       [0., 0., 0., ..., 0., 0., 1.],\n       [0., 0., 0., ..., 0., 0., 1.],\n       [0., 0., 0., ..., 0., 0., 1.]], dtype=float32)"
     },
     "metadata": {},
     "execution_count": 90
    }
   ],
   "source": [
    "le = preprocessing.LabelEncoder()\n",
    "y_train_ = le.fit_transform(y_train)\n",
    "y_train__ = tf.keras.utils.to_categorical(y_train_)\n",
    "y_train__  # DEBUG"
   ]
  },
  {
   "cell_type": "code",
   "execution_count": null,
   "metadata": {},
   "outputs": [],
   "source": [
    "models = model.fit(X_train, y_train__,\n",
    "                    batch_size=256,\n",
    "                    epochs=25,\n",
    "                    verbose=1,\n",
    "                    validation_split=0.15)"
   ]
  },
  {
   "cell_type": "code",
   "execution_count": 93,
   "metadata": {},
   "outputs": [
    {
     "output_type": "display_data",
     "data": {
      "text/plain": "<Figure size 432x288 with 1 Axes>",
      "image/svg+xml": "<?xml version=\"1.0\" encoding=\"utf-8\" standalone=\"no\"?>\r\n<!DOCTYPE svg PUBLIC \"-//W3C//DTD SVG 1.1//EN\"\r\n  \"http://www.w3.org/Graphics/SVG/1.1/DTD/svg11.dtd\">\r\n<!-- Created with matplotlib (https://matplotlib.org/) -->\r\n<svg height=\"277.314375pt\" version=\"1.1\" viewBox=\"0 0 389.607386 277.314375\" width=\"389.607386pt\" xmlns=\"http://www.w3.org/2000/svg\" xmlns:xlink=\"http://www.w3.org/1999/xlink\">\r\n <defs>\r\n  <style type=\"text/css\">\r\n*{stroke-linecap:butt;stroke-linejoin:round;}\r\n  </style>\r\n </defs>\r\n <g id=\"figure_1\">\r\n  <g id=\"patch_1\">\r\n   <path d=\"M 0 277.314375 \r\nL 389.607386 277.314375 \r\nL 389.607386 0 \r\nL 0 0 \r\nz\r\n\" style=\"fill:none;\"/>\r\n  </g>\r\n  <g id=\"axes_1\">\r\n   <g id=\"patch_2\">\r\n    <path d=\"M 43.78125 239.758125 \r\nL 378.58125 239.758125 \r\nL 378.58125 22.318125 \r\nL 43.78125 22.318125 \r\nz\r\n\" style=\"fill:#ffffff;\"/>\r\n   </g>\r\n   <g id=\"matplotlib.axis_1\">\r\n    <g id=\"xtick_1\">\r\n     <g id=\"line2d_1\">\r\n      <defs>\r\n       <path d=\"M 0 0 \r\nL 0 3.5 \r\n\" id=\"m42c501dc87\" style=\"stroke:#000000;stroke-width:0.8;\"/>\r\n      </defs>\r\n      <g>\r\n       <use style=\"stroke:#000000;stroke-width:0.8;\" x=\"58.999432\" xlink:href=\"#m42c501dc87\" y=\"239.758125\"/>\r\n      </g>\r\n     </g>\r\n     <g id=\"text_1\">\r\n      <!-- 0 -->\r\n      <defs>\r\n       <path d=\"M 31.78125 66.40625 \r\nQ 24.171875 66.40625 20.328125 58.90625 \r\nQ 16.5 51.421875 16.5 36.375 \r\nQ 16.5 21.390625 20.328125 13.890625 \r\nQ 24.171875 6.390625 31.78125 6.390625 \r\nQ 39.453125 6.390625 43.28125 13.890625 \r\nQ 47.125 21.390625 47.125 36.375 \r\nQ 47.125 51.421875 43.28125 58.90625 \r\nQ 39.453125 66.40625 31.78125 66.40625 \r\nz\r\nM 31.78125 74.21875 \r\nQ 44.046875 74.21875 50.515625 64.515625 \r\nQ 56.984375 54.828125 56.984375 36.375 \r\nQ 56.984375 17.96875 50.515625 8.265625 \r\nQ 44.046875 -1.421875 31.78125 -1.421875 \r\nQ 19.53125 -1.421875 13.0625 8.265625 \r\nQ 6.59375 17.96875 6.59375 36.375 \r\nQ 6.59375 54.828125 13.0625 64.515625 \r\nQ 19.53125 74.21875 31.78125 74.21875 \r\nz\r\n\" id=\"DejaVuSans-48\"/>\r\n      </defs>\r\n      <g transform=\"translate(55.818182 254.356562)scale(0.1 -0.1)\">\r\n       <use xlink:href=\"#DejaVuSans-48\"/>\r\n      </g>\r\n     </g>\r\n    </g>\r\n    <g id=\"xtick_2\">\r\n     <g id=\"line2d_2\">\r\n      <g>\r\n       <use style=\"stroke:#000000;stroke-width:0.8;\" x=\"122.408523\" xlink:href=\"#m42c501dc87\" y=\"239.758125\"/>\r\n      </g>\r\n     </g>\r\n     <g id=\"text_2\">\r\n      <!-- 5 -->\r\n      <defs>\r\n       <path d=\"M 10.796875 72.90625 \r\nL 49.515625 72.90625 \r\nL 49.515625 64.59375 \r\nL 19.828125 64.59375 \r\nL 19.828125 46.734375 \r\nQ 21.96875 47.46875 24.109375 47.828125 \r\nQ 26.265625 48.1875 28.421875 48.1875 \r\nQ 40.625 48.1875 47.75 41.5 \r\nQ 54.890625 34.8125 54.890625 23.390625 \r\nQ 54.890625 11.625 47.5625 5.09375 \r\nQ 40.234375 -1.421875 26.90625 -1.421875 \r\nQ 22.3125 -1.421875 17.546875 -0.640625 \r\nQ 12.796875 0.140625 7.71875 1.703125 \r\nL 7.71875 11.625 \r\nQ 12.109375 9.234375 16.796875 8.0625 \r\nQ 21.484375 6.890625 26.703125 6.890625 \r\nQ 35.15625 6.890625 40.078125 11.328125 \r\nQ 45.015625 15.765625 45.015625 23.390625 \r\nQ 45.015625 31 40.078125 35.4375 \r\nQ 35.15625 39.890625 26.703125 39.890625 \r\nQ 22.75 39.890625 18.8125 39.015625 \r\nQ 14.890625 38.140625 10.796875 36.28125 \r\nz\r\n\" id=\"DejaVuSans-53\"/>\r\n      </defs>\r\n      <g transform=\"translate(119.227273 254.356562)scale(0.1 -0.1)\">\r\n       <use xlink:href=\"#DejaVuSans-53\"/>\r\n      </g>\r\n     </g>\r\n    </g>\r\n    <g id=\"xtick_3\">\r\n     <g id=\"line2d_3\">\r\n      <g>\r\n       <use style=\"stroke:#000000;stroke-width:0.8;\" x=\"185.817614\" xlink:href=\"#m42c501dc87\" y=\"239.758125\"/>\r\n      </g>\r\n     </g>\r\n     <g id=\"text_3\">\r\n      <!-- 10 -->\r\n      <defs>\r\n       <path d=\"M 12.40625 8.296875 \r\nL 28.515625 8.296875 \r\nL 28.515625 63.921875 \r\nL 10.984375 60.40625 \r\nL 10.984375 69.390625 \r\nL 28.421875 72.90625 \r\nL 38.28125 72.90625 \r\nL 38.28125 8.296875 \r\nL 54.390625 8.296875 \r\nL 54.390625 0 \r\nL 12.40625 0 \r\nz\r\n\" id=\"DejaVuSans-49\"/>\r\n      </defs>\r\n      <g transform=\"translate(179.455114 254.356562)scale(0.1 -0.1)\">\r\n       <use xlink:href=\"#DejaVuSans-49\"/>\r\n       <use x=\"63.623047\" xlink:href=\"#DejaVuSans-48\"/>\r\n      </g>\r\n     </g>\r\n    </g>\r\n    <g id=\"xtick_4\">\r\n     <g id=\"line2d_4\">\r\n      <g>\r\n       <use style=\"stroke:#000000;stroke-width:0.8;\" x=\"249.226705\" xlink:href=\"#m42c501dc87\" y=\"239.758125\"/>\r\n      </g>\r\n     </g>\r\n     <g id=\"text_4\">\r\n      <!-- 15 -->\r\n      <g transform=\"translate(242.864205 254.356562)scale(0.1 -0.1)\">\r\n       <use xlink:href=\"#DejaVuSans-49\"/>\r\n       <use x=\"63.623047\" xlink:href=\"#DejaVuSans-53\"/>\r\n      </g>\r\n     </g>\r\n    </g>\r\n    <g id=\"xtick_5\">\r\n     <g id=\"line2d_5\">\r\n      <g>\r\n       <use style=\"stroke:#000000;stroke-width:0.8;\" x=\"312.635795\" xlink:href=\"#m42c501dc87\" y=\"239.758125\"/>\r\n      </g>\r\n     </g>\r\n     <g id=\"text_5\">\r\n      <!-- 20 -->\r\n      <defs>\r\n       <path d=\"M 19.1875 8.296875 \r\nL 53.609375 8.296875 \r\nL 53.609375 0 \r\nL 7.328125 0 \r\nL 7.328125 8.296875 \r\nQ 12.9375 14.109375 22.625 23.890625 \r\nQ 32.328125 33.6875 34.8125 36.53125 \r\nQ 39.546875 41.84375 41.421875 45.53125 \r\nQ 43.3125 49.21875 43.3125 52.78125 \r\nQ 43.3125 58.59375 39.234375 62.25 \r\nQ 35.15625 65.921875 28.609375 65.921875 \r\nQ 23.96875 65.921875 18.8125 64.3125 \r\nQ 13.671875 62.703125 7.8125 59.421875 \r\nL 7.8125 69.390625 \r\nQ 13.765625 71.78125 18.9375 73 \r\nQ 24.125 74.21875 28.421875 74.21875 \r\nQ 39.75 74.21875 46.484375 68.546875 \r\nQ 53.21875 62.890625 53.21875 53.421875 \r\nQ 53.21875 48.921875 51.53125 44.890625 \r\nQ 49.859375 40.875 45.40625 35.40625 \r\nQ 44.1875 33.984375 37.640625 27.21875 \r\nQ 31.109375 20.453125 19.1875 8.296875 \r\nz\r\n\" id=\"DejaVuSans-50\"/>\r\n      </defs>\r\n      <g transform=\"translate(306.273295 254.356562)scale(0.1 -0.1)\">\r\n       <use xlink:href=\"#DejaVuSans-50\"/>\r\n       <use x=\"63.623047\" xlink:href=\"#DejaVuSans-48\"/>\r\n      </g>\r\n     </g>\r\n    </g>\r\n    <g id=\"xtick_6\">\r\n     <g id=\"line2d_6\">\r\n      <g>\r\n       <use style=\"stroke:#000000;stroke-width:0.8;\" x=\"376.044886\" xlink:href=\"#m42c501dc87\" y=\"239.758125\"/>\r\n      </g>\r\n     </g>\r\n     <g id=\"text_6\">\r\n      <!-- 25 -->\r\n      <g transform=\"translate(369.682386 254.356562)scale(0.1 -0.1)\">\r\n       <use xlink:href=\"#DejaVuSans-50\"/>\r\n       <use x=\"63.623047\" xlink:href=\"#DejaVuSans-53\"/>\r\n      </g>\r\n     </g>\r\n    </g>\r\n    <g id=\"text_7\">\r\n     <!-- epoch -->\r\n     <defs>\r\n      <path d=\"M 56.203125 29.59375 \r\nL 56.203125 25.203125 \r\nL 14.890625 25.203125 \r\nQ 15.484375 15.921875 20.484375 11.0625 \r\nQ 25.484375 6.203125 34.421875 6.203125 \r\nQ 39.59375 6.203125 44.453125 7.46875 \r\nQ 49.3125 8.734375 54.109375 11.28125 \r\nL 54.109375 2.78125 \r\nQ 49.265625 0.734375 44.1875 -0.34375 \r\nQ 39.109375 -1.421875 33.890625 -1.421875 \r\nQ 20.796875 -1.421875 13.15625 6.1875 \r\nQ 5.515625 13.8125 5.515625 26.8125 \r\nQ 5.515625 40.234375 12.765625 48.109375 \r\nQ 20.015625 56 32.328125 56 \r\nQ 43.359375 56 49.78125 48.890625 \r\nQ 56.203125 41.796875 56.203125 29.59375 \r\nz\r\nM 47.21875 32.234375 \r\nQ 47.125 39.59375 43.09375 43.984375 \r\nQ 39.0625 48.390625 32.421875 48.390625 \r\nQ 24.90625 48.390625 20.390625 44.140625 \r\nQ 15.875 39.890625 15.1875 32.171875 \r\nz\r\n\" id=\"DejaVuSans-101\"/>\r\n      <path d=\"M 18.109375 8.203125 \r\nL 18.109375 -20.796875 \r\nL 9.078125 -20.796875 \r\nL 9.078125 54.6875 \r\nL 18.109375 54.6875 \r\nL 18.109375 46.390625 \r\nQ 20.953125 51.265625 25.265625 53.625 \r\nQ 29.59375 56 35.59375 56 \r\nQ 45.5625 56 51.78125 48.09375 \r\nQ 58.015625 40.1875 58.015625 27.296875 \r\nQ 58.015625 14.40625 51.78125 6.484375 \r\nQ 45.5625 -1.421875 35.59375 -1.421875 \r\nQ 29.59375 -1.421875 25.265625 0.953125 \r\nQ 20.953125 3.328125 18.109375 8.203125 \r\nz\r\nM 48.6875 27.296875 \r\nQ 48.6875 37.203125 44.609375 42.84375 \r\nQ 40.53125 48.484375 33.40625 48.484375 \r\nQ 26.265625 48.484375 22.1875 42.84375 \r\nQ 18.109375 37.203125 18.109375 27.296875 \r\nQ 18.109375 17.390625 22.1875 11.75 \r\nQ 26.265625 6.109375 33.40625 6.109375 \r\nQ 40.53125 6.109375 44.609375 11.75 \r\nQ 48.6875 17.390625 48.6875 27.296875 \r\nz\r\n\" id=\"DejaVuSans-112\"/>\r\n      <path d=\"M 30.609375 48.390625 \r\nQ 23.390625 48.390625 19.1875 42.75 \r\nQ 14.984375 37.109375 14.984375 27.296875 \r\nQ 14.984375 17.484375 19.15625 11.84375 \r\nQ 23.34375 6.203125 30.609375 6.203125 \r\nQ 37.796875 6.203125 41.984375 11.859375 \r\nQ 46.1875 17.53125 46.1875 27.296875 \r\nQ 46.1875 37.015625 41.984375 42.703125 \r\nQ 37.796875 48.390625 30.609375 48.390625 \r\nz\r\nM 30.609375 56 \r\nQ 42.328125 56 49.015625 48.375 \r\nQ 55.71875 40.765625 55.71875 27.296875 \r\nQ 55.71875 13.875 49.015625 6.21875 \r\nQ 42.328125 -1.421875 30.609375 -1.421875 \r\nQ 18.84375 -1.421875 12.171875 6.21875 \r\nQ 5.515625 13.875 5.515625 27.296875 \r\nQ 5.515625 40.765625 12.171875 48.375 \r\nQ 18.84375 56 30.609375 56 \r\nz\r\n\" id=\"DejaVuSans-111\"/>\r\n      <path d=\"M 48.78125 52.59375 \r\nL 48.78125 44.1875 \r\nQ 44.96875 46.296875 41.140625 47.34375 \r\nQ 37.3125 48.390625 33.40625 48.390625 \r\nQ 24.65625 48.390625 19.8125 42.84375 \r\nQ 14.984375 37.3125 14.984375 27.296875 \r\nQ 14.984375 17.28125 19.8125 11.734375 \r\nQ 24.65625 6.203125 33.40625 6.203125 \r\nQ 37.3125 6.203125 41.140625 7.25 \r\nQ 44.96875 8.296875 48.78125 10.40625 \r\nL 48.78125 2.09375 \r\nQ 45.015625 0.34375 40.984375 -0.53125 \r\nQ 36.96875 -1.421875 32.421875 -1.421875 \r\nQ 20.0625 -1.421875 12.78125 6.34375 \r\nQ 5.515625 14.109375 5.515625 27.296875 \r\nQ 5.515625 40.671875 12.859375 48.328125 \r\nQ 20.21875 56 33.015625 56 \r\nQ 37.15625 56 41.109375 55.140625 \r\nQ 45.0625 54.296875 48.78125 52.59375 \r\nz\r\n\" id=\"DejaVuSans-99\"/>\r\n      <path d=\"M 54.890625 33.015625 \r\nL 54.890625 0 \r\nL 45.90625 0 \r\nL 45.90625 32.71875 \r\nQ 45.90625 40.484375 42.875 44.328125 \r\nQ 39.84375 48.1875 33.796875 48.1875 \r\nQ 26.515625 48.1875 22.3125 43.546875 \r\nQ 18.109375 38.921875 18.109375 30.90625 \r\nL 18.109375 0 \r\nL 9.078125 0 \r\nL 9.078125 75.984375 \r\nL 18.109375 75.984375 \r\nL 18.109375 46.1875 \r\nQ 21.34375 51.125 25.703125 53.5625 \r\nQ 30.078125 56 35.796875 56 \r\nQ 45.21875 56 50.046875 50.171875 \r\nQ 54.890625 44.34375 54.890625 33.015625 \r\nz\r\n\" id=\"DejaVuSans-104\"/>\r\n     </defs>\r\n     <g transform=\"translate(195.953125 268.034687)scale(0.1 -0.1)\">\r\n      <use xlink:href=\"#DejaVuSans-101\"/>\r\n      <use x=\"61.523438\" xlink:href=\"#DejaVuSans-112\"/>\r\n      <use x=\"125\" xlink:href=\"#DejaVuSans-111\"/>\r\n      <use x=\"186.181641\" xlink:href=\"#DejaVuSans-99\"/>\r\n      <use x=\"241.162109\" xlink:href=\"#DejaVuSans-104\"/>\r\n     </g>\r\n    </g>\r\n   </g>\r\n   <g id=\"matplotlib.axis_2\">\r\n    <g id=\"ytick_1\">\r\n     <g id=\"line2d_7\">\r\n      <defs>\r\n       <path d=\"M 0 0 \r\nL -3.5 0 \r\n\" id=\"m2cf8ea5125\" style=\"stroke:#000000;stroke-width:0.8;\"/>\r\n      </defs>\r\n      <g>\r\n       <use style=\"stroke:#000000;stroke-width:0.8;\" x=\"43.78125\" xlink:href=\"#m2cf8ea5125\" y=\"211.768331\"/>\r\n      </g>\r\n     </g>\r\n     <g id=\"text_8\">\r\n      <!-- 0.2 -->\r\n      <defs>\r\n       <path d=\"M 10.6875 12.40625 \r\nL 21 12.40625 \r\nL 21 0 \r\nL 10.6875 0 \r\nz\r\n\" id=\"DejaVuSans-46\"/>\r\n      </defs>\r\n      <g transform=\"translate(20.878125 215.56755)scale(0.1 -0.1)\">\r\n       <use xlink:href=\"#DejaVuSans-48\"/>\r\n       <use x=\"63.623047\" xlink:href=\"#DejaVuSans-46\"/>\r\n       <use x=\"95.410156\" xlink:href=\"#DejaVuSans-50\"/>\r\n      </g>\r\n     </g>\r\n    </g>\r\n    <g id=\"ytick_2\">\r\n     <g id=\"line2d_8\">\r\n      <g>\r\n       <use style=\"stroke:#000000;stroke-width:0.8;\" x=\"43.78125\" xlink:href=\"#m2cf8ea5125\" y=\"166.585994\"/>\r\n      </g>\r\n     </g>\r\n     <g id=\"text_9\">\r\n      <!-- 0.4 -->\r\n      <defs>\r\n       <path d=\"M 37.796875 64.3125 \r\nL 12.890625 25.390625 \r\nL 37.796875 25.390625 \r\nz\r\nM 35.203125 72.90625 \r\nL 47.609375 72.90625 \r\nL 47.609375 25.390625 \r\nL 58.015625 25.390625 \r\nL 58.015625 17.1875 \r\nL 47.609375 17.1875 \r\nL 47.609375 0 \r\nL 37.796875 0 \r\nL 37.796875 17.1875 \r\nL 4.890625 17.1875 \r\nL 4.890625 26.703125 \r\nz\r\n\" id=\"DejaVuSans-52\"/>\r\n      </defs>\r\n      <g transform=\"translate(20.878125 170.385213)scale(0.1 -0.1)\">\r\n       <use xlink:href=\"#DejaVuSans-48\"/>\r\n       <use x=\"63.623047\" xlink:href=\"#DejaVuSans-46\"/>\r\n       <use x=\"95.410156\" xlink:href=\"#DejaVuSans-52\"/>\r\n      </g>\r\n     </g>\r\n    </g>\r\n    <g id=\"ytick_3\">\r\n     <g id=\"line2d_9\">\r\n      <g>\r\n       <use style=\"stroke:#000000;stroke-width:0.8;\" x=\"43.78125\" xlink:href=\"#m2cf8ea5125\" y=\"121.403658\"/>\r\n      </g>\r\n     </g>\r\n     <g id=\"text_10\">\r\n      <!-- 0.6 -->\r\n      <defs>\r\n       <path d=\"M 33.015625 40.375 \r\nQ 26.375 40.375 22.484375 35.828125 \r\nQ 18.609375 31.296875 18.609375 23.390625 \r\nQ 18.609375 15.53125 22.484375 10.953125 \r\nQ 26.375 6.390625 33.015625 6.390625 \r\nQ 39.65625 6.390625 43.53125 10.953125 \r\nQ 47.40625 15.53125 47.40625 23.390625 \r\nQ 47.40625 31.296875 43.53125 35.828125 \r\nQ 39.65625 40.375 33.015625 40.375 \r\nz\r\nM 52.59375 71.296875 \r\nL 52.59375 62.3125 \r\nQ 48.875 64.0625 45.09375 64.984375 \r\nQ 41.3125 65.921875 37.59375 65.921875 \r\nQ 27.828125 65.921875 22.671875 59.328125 \r\nQ 17.53125 52.734375 16.796875 39.40625 \r\nQ 19.671875 43.65625 24.015625 45.921875 \r\nQ 28.375 48.1875 33.59375 48.1875 \r\nQ 44.578125 48.1875 50.953125 41.515625 \r\nQ 57.328125 34.859375 57.328125 23.390625 \r\nQ 57.328125 12.15625 50.6875 5.359375 \r\nQ 44.046875 -1.421875 33.015625 -1.421875 \r\nQ 20.359375 -1.421875 13.671875 8.265625 \r\nQ 6.984375 17.96875 6.984375 36.375 \r\nQ 6.984375 53.65625 15.1875 63.9375 \r\nQ 23.390625 74.21875 37.203125 74.21875 \r\nQ 40.921875 74.21875 44.703125 73.484375 \r\nQ 48.484375 72.75 52.59375 71.296875 \r\nz\r\n\" id=\"DejaVuSans-54\"/>\r\n      </defs>\r\n      <g transform=\"translate(20.878125 125.202877)scale(0.1 -0.1)\">\r\n       <use xlink:href=\"#DejaVuSans-48\"/>\r\n       <use x=\"63.623047\" xlink:href=\"#DejaVuSans-46\"/>\r\n       <use x=\"95.410156\" xlink:href=\"#DejaVuSans-54\"/>\r\n      </g>\r\n     </g>\r\n    </g>\r\n    <g id=\"ytick_4\">\r\n     <g id=\"line2d_10\">\r\n      <g>\r\n       <use style=\"stroke:#000000;stroke-width:0.8;\" x=\"43.78125\" xlink:href=\"#m2cf8ea5125\" y=\"76.221321\"/>\r\n      </g>\r\n     </g>\r\n     <g id=\"text_11\">\r\n      <!-- 0.8 -->\r\n      <defs>\r\n       <path d=\"M 31.78125 34.625 \r\nQ 24.75 34.625 20.71875 30.859375 \r\nQ 16.703125 27.09375 16.703125 20.515625 \r\nQ 16.703125 13.921875 20.71875 10.15625 \r\nQ 24.75 6.390625 31.78125 6.390625 \r\nQ 38.8125 6.390625 42.859375 10.171875 \r\nQ 46.921875 13.96875 46.921875 20.515625 \r\nQ 46.921875 27.09375 42.890625 30.859375 \r\nQ 38.875 34.625 31.78125 34.625 \r\nz\r\nM 21.921875 38.8125 \r\nQ 15.578125 40.375 12.03125 44.71875 \r\nQ 8.5 49.078125 8.5 55.328125 \r\nQ 8.5 64.0625 14.71875 69.140625 \r\nQ 20.953125 74.21875 31.78125 74.21875 \r\nQ 42.671875 74.21875 48.875 69.140625 \r\nQ 55.078125 64.0625 55.078125 55.328125 \r\nQ 55.078125 49.078125 51.53125 44.71875 \r\nQ 48 40.375 41.703125 38.8125 \r\nQ 48.828125 37.15625 52.796875 32.3125 \r\nQ 56.78125 27.484375 56.78125 20.515625 \r\nQ 56.78125 9.90625 50.3125 4.234375 \r\nQ 43.84375 -1.421875 31.78125 -1.421875 \r\nQ 19.734375 -1.421875 13.25 4.234375 \r\nQ 6.78125 9.90625 6.78125 20.515625 \r\nQ 6.78125 27.484375 10.78125 32.3125 \r\nQ 14.796875 37.15625 21.921875 38.8125 \r\nz\r\nM 18.3125 54.390625 \r\nQ 18.3125 48.734375 21.84375 45.5625 \r\nQ 25.390625 42.390625 31.78125 42.390625 \r\nQ 38.140625 42.390625 41.71875 45.5625 \r\nQ 45.3125 48.734375 45.3125 54.390625 \r\nQ 45.3125 60.0625 41.71875 63.234375 \r\nQ 38.140625 66.40625 31.78125 66.40625 \r\nQ 25.390625 66.40625 21.84375 63.234375 \r\nQ 18.3125 60.0625 18.3125 54.390625 \r\nz\r\n\" id=\"DejaVuSans-56\"/>\r\n      </defs>\r\n      <g transform=\"translate(20.878125 80.02054)scale(0.1 -0.1)\">\r\n       <use xlink:href=\"#DejaVuSans-48\"/>\r\n       <use x=\"63.623047\" xlink:href=\"#DejaVuSans-46\"/>\r\n       <use x=\"95.410156\" xlink:href=\"#DejaVuSans-56\"/>\r\n      </g>\r\n     </g>\r\n    </g>\r\n    <g id=\"ytick_5\">\r\n     <g id=\"line2d_11\">\r\n      <g>\r\n       <use style=\"stroke:#000000;stroke-width:0.8;\" x=\"43.78125\" xlink:href=\"#m2cf8ea5125\" y=\"31.038985\"/>\r\n      </g>\r\n     </g>\r\n     <g id=\"text_12\">\r\n      <!-- 1.0 -->\r\n      <g transform=\"translate(20.878125 34.838204)scale(0.1 -0.1)\">\r\n       <use xlink:href=\"#DejaVuSans-49\"/>\r\n       <use x=\"63.623047\" xlink:href=\"#DejaVuSans-46\"/>\r\n       <use x=\"95.410156\" xlink:href=\"#DejaVuSans-48\"/>\r\n      </g>\r\n     </g>\r\n    </g>\r\n    <g id=\"text_13\">\r\n     <!-- acc -->\r\n     <defs>\r\n      <path d=\"M 34.28125 27.484375 \r\nQ 23.390625 27.484375 19.1875 25 \r\nQ 14.984375 22.515625 14.984375 16.5 \r\nQ 14.984375 11.71875 18.140625 8.90625 \r\nQ 21.296875 6.109375 26.703125 6.109375 \r\nQ 34.1875 6.109375 38.703125 11.40625 \r\nQ 43.21875 16.703125 43.21875 25.484375 \r\nL 43.21875 27.484375 \r\nz\r\nM 52.203125 31.203125 \r\nL 52.203125 0 \r\nL 43.21875 0 \r\nL 43.21875 8.296875 \r\nQ 40.140625 3.328125 35.546875 0.953125 \r\nQ 30.953125 -1.421875 24.3125 -1.421875 \r\nQ 15.921875 -1.421875 10.953125 3.296875 \r\nQ 6 8.015625 6 15.921875 \r\nQ 6 25.140625 12.171875 29.828125 \r\nQ 18.359375 34.515625 30.609375 34.515625 \r\nL 43.21875 34.515625 \r\nL 43.21875 35.40625 \r\nQ 43.21875 41.609375 39.140625 45 \r\nQ 35.0625 48.390625 27.6875 48.390625 \r\nQ 23 48.390625 18.546875 47.265625 \r\nQ 14.109375 46.140625 10.015625 43.890625 \r\nL 10.015625 52.203125 \r\nQ 14.9375 54.109375 19.578125 55.046875 \r\nQ 24.21875 56 28.609375 56 \r\nQ 40.484375 56 46.34375 49.84375 \r\nQ 52.203125 43.703125 52.203125 31.203125 \r\nz\r\n\" id=\"DejaVuSans-97\"/>\r\n     </defs>\r\n     <g transform=\"translate(14.798438 139.600625)rotate(-90)scale(0.1 -0.1)\">\r\n      <use xlink:href=\"#DejaVuSans-97\"/>\r\n      <use x=\"61.279297\" xlink:href=\"#DejaVuSans-99\"/>\r\n      <use x=\"116.259766\" xlink:href=\"#DejaVuSans-99\"/>\r\n     </g>\r\n    </g>\r\n   </g>\r\n   <g id=\"line2d_12\">\r\n    <path clip-path=\"url(#p87b45b5dc6)\" d=\"M 58.999432 229.874489 \r\nL 71.68125 186.519376 \r\nL 84.363068 166.419884 \r\nL 97.044886 143.164268 \r\nL 109.726705 114.759198 \r\nL 122.408523 95.656368 \r\nL 135.090341 79.045212 \r\nL 147.772159 68.912415 \r\nL 160.453977 62.600179 \r\nL 173.135795 58.115169 \r\nL 185.817614 48.31459 \r\nL 198.499432 43.663457 \r\nL 211.18125 38.015671 \r\nL 223.863068 37.351221 \r\nL 236.544886 36.188445 \r\nL 249.226705 33.862878 \r\nL 261.908523 34.527328 \r\nL 274.590341 33.862878 \r\nL 287.272159 33.03232 \r\nL 299.953977 34.361219 \r\nL 312.635795 33.03232 \r\nL 325.317614 33.03232 \r\nL 337.999432 32.700102 \r\nL 350.68125 32.201761 \r\nL 363.363068 32.367884 \r\n\" style=\"fill:none;stroke:#1f77b4;stroke-linecap:square;stroke-width:1.5;\"/>\r\n   </g>\r\n   <g id=\"line2d_13\">\r\n    <path clip-path=\"url(#p87b45b5dc6)\" d=\"M 58.999432 206.12054 \r\nL 71.68125 195.766251 \r\nL 84.363068 190.118465 \r\nL 97.044886 167.527291 \r\nL 109.726705 153.407811 \r\nL 122.408523 136.46443 \r\nL 135.090341 113.87327 \r\nL 147.772159 115.755866 \r\nL 160.453977 110.108079 \r\nL 173.135795 97.871195 \r\nL 185.817614 95.047301 \r\nL 198.499432 91.282097 \r\nL 211.18125 85.63431 \r\nL 223.863068 83.751714 \r\nL 236.544886 85.63431 \r\nL 249.226705 83.751714 \r\nL 261.908523 79.98651 \r\nL 274.590341 82.810417 \r\nL 287.272159 82.810417 \r\nL 299.953977 80.927821 \r\nL 312.635795 83.751714 \r\nL 325.317614 83.751714 \r\nL 337.999432 82.810417 \r\nL 350.68125 82.810417 \r\nL 363.363068 81.869119 \r\n\" style=\"fill:none;stroke:#ff7f0e;stroke-linecap:square;stroke-width:1.5;\"/>\r\n   </g>\r\n   <g id=\"patch_3\">\r\n    <path d=\"M 43.78125 239.758125 \r\nL 43.78125 22.318125 \r\n\" style=\"fill:none;stroke:#000000;stroke-linecap:square;stroke-linejoin:miter;stroke-width:0.8;\"/>\r\n   </g>\r\n   <g id=\"patch_4\">\r\n    <path d=\"M 378.58125 239.758125 \r\nL 378.58125 22.318125 \r\n\" style=\"fill:none;stroke:#000000;stroke-linecap:square;stroke-linejoin:miter;stroke-width:0.8;\"/>\r\n   </g>\r\n   <g id=\"patch_5\">\r\n    <path d=\"M 43.78125 239.758125 \r\nL 378.58125 239.758125 \r\n\" style=\"fill:none;stroke:#000000;stroke-linecap:square;stroke-linejoin:miter;stroke-width:0.8;\"/>\r\n   </g>\r\n   <g id=\"patch_6\">\r\n    <path d=\"M 43.78125 22.318125 \r\nL 378.58125 22.318125 \r\n\" style=\"fill:none;stroke:#000000;stroke-linecap:square;stroke-linejoin:miter;stroke-width:0.8;\"/>\r\n   </g>\r\n   <g id=\"text_14\">\r\n    <!-- model acc -->\r\n    <defs>\r\n     <path d=\"M 52 44.1875 \r\nQ 55.375 50.25 60.0625 53.125 \r\nQ 64.75 56 71.09375 56 \r\nQ 79.640625 56 84.28125 50.015625 \r\nQ 88.921875 44.046875 88.921875 33.015625 \r\nL 88.921875 0 \r\nL 79.890625 0 \r\nL 79.890625 32.71875 \r\nQ 79.890625 40.578125 77.09375 44.375 \r\nQ 74.3125 48.1875 68.609375 48.1875 \r\nQ 61.625 48.1875 57.5625 43.546875 \r\nQ 53.515625 38.921875 53.515625 30.90625 \r\nL 53.515625 0 \r\nL 44.484375 0 \r\nL 44.484375 32.71875 \r\nQ 44.484375 40.625 41.703125 44.40625 \r\nQ 38.921875 48.1875 33.109375 48.1875 \r\nQ 26.21875 48.1875 22.15625 43.53125 \r\nQ 18.109375 38.875 18.109375 30.90625 \r\nL 18.109375 0 \r\nL 9.078125 0 \r\nL 9.078125 54.6875 \r\nL 18.109375 54.6875 \r\nL 18.109375 46.1875 \r\nQ 21.1875 51.21875 25.484375 53.609375 \r\nQ 29.78125 56 35.6875 56 \r\nQ 41.65625 56 45.828125 52.96875 \r\nQ 50 49.953125 52 44.1875 \r\nz\r\n\" id=\"DejaVuSans-109\"/>\r\n     <path d=\"M 45.40625 46.390625 \r\nL 45.40625 75.984375 \r\nL 54.390625 75.984375 \r\nL 54.390625 0 \r\nL 45.40625 0 \r\nL 45.40625 8.203125 \r\nQ 42.578125 3.328125 38.25 0.953125 \r\nQ 33.9375 -1.421875 27.875 -1.421875 \r\nQ 17.96875 -1.421875 11.734375 6.484375 \r\nQ 5.515625 14.40625 5.515625 27.296875 \r\nQ 5.515625 40.1875 11.734375 48.09375 \r\nQ 17.96875 56 27.875 56 \r\nQ 33.9375 56 38.25 53.625 \r\nQ 42.578125 51.265625 45.40625 46.390625 \r\nz\r\nM 14.796875 27.296875 \r\nQ 14.796875 17.390625 18.875 11.75 \r\nQ 22.953125 6.109375 30.078125 6.109375 \r\nQ 37.203125 6.109375 41.296875 11.75 \r\nQ 45.40625 17.390625 45.40625 27.296875 \r\nQ 45.40625 37.203125 41.296875 42.84375 \r\nQ 37.203125 48.484375 30.078125 48.484375 \r\nQ 22.953125 48.484375 18.875 42.84375 \r\nQ 14.796875 37.203125 14.796875 27.296875 \r\nz\r\n\" id=\"DejaVuSans-100\"/>\r\n     <path d=\"M 9.421875 75.984375 \r\nL 18.40625 75.984375 \r\nL 18.40625 0 \r\nL 9.421875 0 \r\nz\r\n\" id=\"DejaVuSans-108\"/>\r\n     <path id=\"DejaVuSans-32\"/>\r\n    </defs>\r\n    <g transform=\"translate(180.315938 16.318125)scale(0.12 -0.12)\">\r\n     <use xlink:href=\"#DejaVuSans-109\"/>\r\n     <use x=\"97.412109\" xlink:href=\"#DejaVuSans-111\"/>\r\n     <use x=\"158.59375\" xlink:href=\"#DejaVuSans-100\"/>\r\n     <use x=\"222.070312\" xlink:href=\"#DejaVuSans-101\"/>\r\n     <use x=\"283.59375\" xlink:href=\"#DejaVuSans-108\"/>\r\n     <use x=\"311.376953\" xlink:href=\"#DejaVuSans-32\"/>\r\n     <use x=\"343.164062\" xlink:href=\"#DejaVuSans-97\"/>\r\n     <use x=\"404.443359\" xlink:href=\"#DejaVuSans-99\"/>\r\n     <use x=\"459.423828\" xlink:href=\"#DejaVuSans-99\"/>\r\n    </g>\r\n   </g>\r\n   <g id=\"legend_1\">\r\n    <g id=\"patch_7\">\r\n     <path d=\"M 290.346875 234.758125 \r\nL 371.58125 234.758125 \r\nQ 373.58125 234.758125 373.58125 232.758125 \r\nL 373.58125 204.401875 \r\nQ 373.58125 202.401875 371.58125 202.401875 \r\nL 290.346875 202.401875 \r\nQ 288.346875 202.401875 288.346875 204.401875 \r\nL 288.346875 232.758125 \r\nQ 288.346875 234.758125 290.346875 234.758125 \r\nz\r\n\" style=\"fill:#ffffff;opacity:0.8;stroke:#cccccc;stroke-linejoin:miter;\"/>\r\n    </g>\r\n    <g id=\"line2d_14\">\r\n     <path d=\"M 292.346875 210.500312 \r\nL 312.346875 210.500312 \r\n\" style=\"fill:none;stroke:#1f77b4;stroke-linecap:square;stroke-width:1.5;\"/>\r\n    </g>\r\n    <g id=\"line2d_15\"/>\r\n    <g id=\"text_15\">\r\n     <!-- train -->\r\n     <defs>\r\n      <path d=\"M 18.3125 70.21875 \r\nL 18.3125 54.6875 \r\nL 36.8125 54.6875 \r\nL 36.8125 47.703125 \r\nL 18.3125 47.703125 \r\nL 18.3125 18.015625 \r\nQ 18.3125 11.328125 20.140625 9.421875 \r\nQ 21.96875 7.515625 27.59375 7.515625 \r\nL 36.8125 7.515625 \r\nL 36.8125 0 \r\nL 27.59375 0 \r\nQ 17.1875 0 13.234375 3.875 \r\nQ 9.28125 7.765625 9.28125 18.015625 \r\nL 9.28125 47.703125 \r\nL 2.6875 47.703125 \r\nL 2.6875 54.6875 \r\nL 9.28125 54.6875 \r\nL 9.28125 70.21875 \r\nz\r\n\" id=\"DejaVuSans-116\"/>\r\n      <path d=\"M 41.109375 46.296875 \r\nQ 39.59375 47.171875 37.8125 47.578125 \r\nQ 36.03125 48 33.890625 48 \r\nQ 26.265625 48 22.1875 43.046875 \r\nQ 18.109375 38.09375 18.109375 28.8125 \r\nL 18.109375 0 \r\nL 9.078125 0 \r\nL 9.078125 54.6875 \r\nL 18.109375 54.6875 \r\nL 18.109375 46.1875 \r\nQ 20.953125 51.171875 25.484375 53.578125 \r\nQ 30.03125 56 36.53125 56 \r\nQ 37.453125 56 38.578125 55.875 \r\nQ 39.703125 55.765625 41.0625 55.515625 \r\nz\r\n\" id=\"DejaVuSans-114\"/>\r\n      <path d=\"M 9.421875 54.6875 \r\nL 18.40625 54.6875 \r\nL 18.40625 0 \r\nL 9.421875 0 \r\nz\r\nM 9.421875 75.984375 \r\nL 18.40625 75.984375 \r\nL 18.40625 64.59375 \r\nL 9.421875 64.59375 \r\nz\r\n\" id=\"DejaVuSans-105\"/>\r\n      <path d=\"M 54.890625 33.015625 \r\nL 54.890625 0 \r\nL 45.90625 0 \r\nL 45.90625 32.71875 \r\nQ 45.90625 40.484375 42.875 44.328125 \r\nQ 39.84375 48.1875 33.796875 48.1875 \r\nQ 26.515625 48.1875 22.3125 43.546875 \r\nQ 18.109375 38.921875 18.109375 30.90625 \r\nL 18.109375 0 \r\nL 9.078125 0 \r\nL 9.078125 54.6875 \r\nL 18.109375 54.6875 \r\nL 18.109375 46.1875 \r\nQ 21.34375 51.125 25.703125 53.5625 \r\nQ 30.078125 56 35.796875 56 \r\nQ 45.21875 56 50.046875 50.171875 \r\nQ 54.890625 44.34375 54.890625 33.015625 \r\nz\r\n\" id=\"DejaVuSans-110\"/>\r\n     </defs>\r\n     <g transform=\"translate(320.346875 214.000312)scale(0.1 -0.1)\">\r\n      <use xlink:href=\"#DejaVuSans-116\"/>\r\n      <use x=\"39.208984\" xlink:href=\"#DejaVuSans-114\"/>\r\n      <use x=\"80.322266\" xlink:href=\"#DejaVuSans-97\"/>\r\n      <use x=\"141.601562\" xlink:href=\"#DejaVuSans-105\"/>\r\n      <use x=\"169.384766\" xlink:href=\"#DejaVuSans-110\"/>\r\n     </g>\r\n    </g>\r\n    <g id=\"line2d_16\">\r\n     <path d=\"M 292.346875 225.178437 \r\nL 312.346875 225.178437 \r\n\" style=\"fill:none;stroke:#ff7f0e;stroke-linecap:square;stroke-width:1.5;\"/>\r\n    </g>\r\n    <g id=\"line2d_17\"/>\r\n    <g id=\"text_16\">\r\n     <!-- validation -->\r\n     <defs>\r\n      <path d=\"M 2.984375 54.6875 \r\nL 12.5 54.6875 \r\nL 29.59375 8.796875 \r\nL 46.6875 54.6875 \r\nL 56.203125 54.6875 \r\nL 35.6875 0 \r\nL 23.484375 0 \r\nz\r\n\" id=\"DejaVuSans-118\"/>\r\n     </defs>\r\n     <g transform=\"translate(320.346875 228.678437)scale(0.1 -0.1)\">\r\n      <use xlink:href=\"#DejaVuSans-118\"/>\r\n      <use x=\"59.179688\" xlink:href=\"#DejaVuSans-97\"/>\r\n      <use x=\"120.458984\" xlink:href=\"#DejaVuSans-108\"/>\r\n      <use x=\"148.242188\" xlink:href=\"#DejaVuSans-105\"/>\r\n      <use x=\"176.025391\" xlink:href=\"#DejaVuSans-100\"/>\r\n      <use x=\"239.501953\" xlink:href=\"#DejaVuSans-97\"/>\r\n      <use x=\"300.78125\" xlink:href=\"#DejaVuSans-116\"/>\r\n      <use x=\"339.990234\" xlink:href=\"#DejaVuSans-105\"/>\r\n      <use x=\"367.773438\" xlink:href=\"#DejaVuSans-111\"/>\r\n      <use x=\"428.955078\" xlink:href=\"#DejaVuSans-110\"/>\r\n     </g>\r\n    </g>\r\n   </g>\r\n  </g>\r\n </g>\r\n <defs>\r\n  <clipPath id=\"p87b45b5dc6\">\r\n   <rect height=\"217.44\" width=\"334.8\" x=\"43.78125\" y=\"22.318125\"/>\r\n  </clipPath>\r\n </defs>\r\n</svg>\r\n",
      "image/png": "[encoded data removed]"
     },
     "metadata": {
      "needs_background": "light"
     }
    }
   ],
   "source": [
    "%matplotlib inline\n",
    "import matplotlib.pyplot as plt\n",
    "\n",
    "def plot_train(hist):\n",
    "    h = hist.history\n",
    "    if 'acc' in h:\n",
    "        meas='acc'\n",
    "        loc='lower right'\n",
    "    else:\n",
    "        meas='loss'\n",
    "        loc='upper right'\n",
    "    plt.plot(hist.history[meas])\n",
    "    plt.plot(hist.history['val_'+meas])\n",
    "    plt.title('model '+meas)\n",
    "    plt.ylabel(meas)\n",
    "    plt.xlabel('epoch')\n",
    "    plt.legend(['train', 'validation'], loc=loc)\n",
    "\n",
    "plot_train(models)"
   ]
  },
  {
   "cell_type": "markdown",
   "metadata": {},
   "source": [
    "Evaluation"
   ]
  },
  {
   "cell_type": "code",
   "execution_count": 94,
   "metadata": {},
   "outputs": [],
   "source": [
    "cvect=CountVectorizer(stop_words=\"english\", analyzer='word', \n",
    "                             ngram_range=(1, 2), max_df=1.0, min_df=1, max_features=None)\n",
    "cvect.fit(_X_train)\n",
    "x_train_vectorized = cvect.transform(_X_train)\n",
    "x_test_vectorized = cvect.transform(_X_test)"
   ]
  },
  {
   "cell_type": "code",
   "execution_count": 95,
   "metadata": {},
   "outputs": [
    {
     "output_type": "stream",
     "name": "stdout",
     "text": "400/400 [==============================] - 0s 125us/step\nLoss :  0.85, Accuracy :  0.80\n"
    }
   ],
   "source": [
    "Y_test = le.fit_transform(y_test)\n",
    "Y_test = tf.keras.utils.to_categorical(Y_test)\n",
    "\n",
    "results =model.evaluate(x_test_vectorized,Y_test)\n",
    "print(\"Loss : % 5.2f, Accuracy : % 5.2f\" %(results[0], results[1]))  "
   ]
  },
  {
   "cell_type": "code",
   "execution_count": 96,
   "metadata": {},
   "outputs": [],
   "source": [
    "# predict crisp classes for test set\n",
    "yhat = model.predict(x_test_vectorized, verbose=0)\n",
    "\n",
    "preds_labels = [[1 if x > 0.5 else 0 for idx,x in enumerate(i) ] for i in yhat]"
   ]
  },
  {
   "cell_type": "markdown",
   "metadata": {},
   "source": [
    "ROC Curve"
   ]
  },
  {
   "cell_type": "code",
   "execution_count": 116,
   "metadata": {},
   "outputs": [
    {
     "output_type": "execute_result",
     "data": {
      "text/plain": "LogisticRegression(C=1.0, class_weight=None, dual=False, fit_intercept=True,\n          intercept_scaling=1, max_iter=100, multi_class='warn',\n          n_jobs=None, penalty='l2', random_state=None, solver='warn',\n          tol=0.0001, verbose=0, warm_start=False)"
     },
     "metadata": {},
     "execution_count": 116
    }
   ],
   "source": [
    "clf = LogisticRegression()\n",
    "clf.fit(X_train, y_train)"
   ]
  },
  {
   "cell_type": "code",
   "execution_count": 161,
   "metadata": {},
   "outputs": [],
   "source": [
    "import sklearn.metrics as metrics\n",
    "# calculate the fpr and tpr for all thresholds of the classification\n",
    "probs = model.predict_proba(X_test)\n",
    "preds = probs[:,1]\n",
    "#fpr, tpr, threshold = metrics.roc_curve(y_test, preds)\n",
    "#roc_auc = metrics.auc(fpr, tpr)"
   ]
  },
  {
   "cell_type": "code",
   "execution_count": null,
   "metadata": {},
   "outputs": [],
   "source": []
  }
 ],
 "metadata": {
  "kernelspec": {
   "display_name": "Python 3",
   "language": "python",
   "name": "python3"
  },
  "language_info": {
   "codemirror_mode": {
    "name": "ipython",
    "version": 3
   },
   "file_extension": ".py",
   "mimetype": "text/x-python",
   "name": "python",
   "nbconvert_exporter": "python",
   "pygments_lexer": "ipython3",
   "version": "3.8.3-final"
  }
 },
 "nbformat": 4,
 "nbformat_minor": 4
}