{
 "cells": [
  {
   "cell_type": "code",
   "execution_count": 1,
   "metadata": {},
   "outputs": [
    {
     "name": "stderr",
     "output_type": "stream",
     "text": [
      "Using TensorFlow backend.\n"
     ]
    }
   ],
   "source": [
    "#Importing of all the necessary mods\n",
    "import numpy as np \n",
    "import pandas as pd\n",
    "import matplotlib.pyplot as plt\n",
    "import seaborn as sns\n",
    "from keras.preprocessing.text import Tokenizer\n",
    "from keras.preprocessing.sequence import pad_sequences\n",
    "from keras.models import Sequential\n",
    "from keras.layers import Dense, Embedding, LSTM, SpatialDropout1D, Bidirectional\n",
    "from sklearn.model_selection import train_test_split\n",
    "from keras.utils.np_utils import to_categorical\n",
    "from keras.callbacks import EarlyStopping\n",
    "from keras.layers import Dropout\n",
    "import re\n",
    "from nltk.corpus import stopwords\n",
    "from nltk import word_tokenize\n",
    "STOPWORDS = set(stopwords.words('english'))\n",
    "from sklearn.metrics import f1_score, roc_auc_score, multilabel_confusion_matrix, average_precision_score, precision_recall_curve"
   ]
  },
  {
   "cell_type": "code",
   "execution_count": 2,
   "metadata": {},
   "outputs": [],
   "source": [
    "# Reading the csv files\n",
    "fashion_df = pd.read_csv(\"./datasets/fashion_text_dataset.csv\")"
   ]
  },
  {
   "cell_type": "code",
   "execution_count": 3,
   "metadata": {},
   "outputs": [
    {
     "data": {
      "text/html": [
       "<div>\n",
       "<style scoped>\n",
       "    .dataframe tbody tr th:only-of-type {\n",
       "        vertical-align: middle;\n",
       "    }\n",
       "\n",
       "    .dataframe tbody tr th {\n",
       "        vertical-align: top;\n",
       "    }\n",
       "\n",
       "    .dataframe thead th {\n",
       "        text-align: right;\n",
       "    }\n",
       "</style>\n",
       "<table border=\"1\" class=\"dataframe\">\n",
       "  <thead>\n",
       "    <tr style=\"text-align: right;\">\n",
       "      <th></th>\n",
       "      <th>description</th>\n",
       "      <th>category</th>\n",
       "    </tr>\n",
       "  </thead>\n",
       "  <tbody>\n",
       "    <tr>\n",
       "      <th>0</th>\n",
       "      <td>Sless Flippy Mini Dress</td>\n",
       "      <td>women dresses</td>\n",
       "    </tr>\n",
       "    <tr>\n",
       "      <th>1</th>\n",
       "      <td>Midi Pleated Skirt</td>\n",
       "      <td>women skirts</td>\n",
       "    </tr>\n",
       "    <tr>\n",
       "      <th>2</th>\n",
       "      <td>Stamos Mix Silk Raglan Knit Sweater</td>\n",
       "      <td>men outwear</td>\n",
       "    </tr>\n",
       "    <tr>\n",
       "      <th>3</th>\n",
       "      <td>Basic Training Tank Top</td>\n",
       "      <td>men tops</td>\n",
       "    </tr>\n",
       "    <tr>\n",
       "      <th>4</th>\n",
       "      <td>Fashion Camouflage Hooded Jacket</td>\n",
       "      <td>women outwear</td>\n",
       "    </tr>\n",
       "    <tr>\n",
       "      <th>5</th>\n",
       "      <td>Straight Leg Sweatpants</td>\n",
       "      <td>men trousers</td>\n",
       "    </tr>\n",
       "    <tr>\n",
       "      <th>6</th>\n",
       "      <td>Hooded Pull Over</td>\n",
       "      <td>men outwear</td>\n",
       "    </tr>\n",
       "    <tr>\n",
       "      <th>7</th>\n",
       "      <td>Ally 3/4 Spring Pullover</td>\n",
       "      <td>women outwear</td>\n",
       "    </tr>\n",
       "    <tr>\n",
       "      <th>8</th>\n",
       "      <td>Cropped Pleated Pants</td>\n",
       "      <td>women trousers</td>\n",
       "    </tr>\n",
       "    <tr>\n",
       "      <th>9</th>\n",
       "      <td>NB Athletics Archive Run Pants</td>\n",
       "      <td>men trousers</td>\n",
       "    </tr>\n",
       "  </tbody>\n",
       "</table>\n",
       "</div>"
      ],
      "text/plain": [
       "                           description        category\n",
       "0              Sless Flippy Mini Dress   women dresses\n",
       "1                   Midi Pleated Skirt    women skirts\n",
       "2  Stamos Mix Silk Raglan Knit Sweater     men outwear\n",
       "3              Basic Training Tank Top        men tops\n",
       "4     Fashion Camouflage Hooded Jacket   women outwear\n",
       "5              Straight Leg Sweatpants    men trousers\n",
       "6                     Hooded Pull Over     men outwear\n",
       "7             Ally 3/4 Spring Pullover   women outwear\n",
       "8                Cropped Pleated Pants  women trousers\n",
       "9       NB Athletics Archive Run Pants    men trousers"
      ]
     },
     "execution_count": 3,
     "metadata": {},
     "output_type": "execute_result"
    }
   ],
   "source": [
    "# Showing the first few columns of the dataset\n",
    "fashion_df.head(10)"
   ]
  },
  {
   "cell_type": "code",
   "execution_count": 4,
   "metadata": {},
   "outputs": [
    {
     "name": "stdout",
     "output_type": "stream",
     "text": [
      "<class 'pandas.core.frame.DataFrame'>\n",
      "RangeIndex: 2000 entries, 0 to 1999\n",
      "Data columns (total 2 columns):\n",
      " #   Column       Non-Null Count  Dtype \n",
      "---  ------       --------------  ----- \n",
      " 0   description  2000 non-null   object\n",
      " 1   category     2000 non-null   object\n",
      "dtypes: object(2)\n",
      "memory usage: 31.4+ KB\n"
     ]
    }
   ],
   "source": [
    "#This displays the relevant information of the dataframe\n",
    "fashion_df.info()"
   ]
  },
  {
   "cell_type": "code",
   "execution_count": 5,
   "metadata": {},
   "outputs": [
    {
     "data": {
      "text/plain": [
       "women outwear     238\n",
       "men outwear       225\n",
       "women skirts      216\n",
       "women trousers    215\n",
       "men trousers      210\n",
       "women dresses     207\n",
       "men tops          199\n",
       "women tops        187\n",
       "women shorts      184\n",
       "men shorts        119\n",
       "Name: category, dtype: int64"
      ]
     },
     "execution_count": 5,
     "metadata": {},
     "output_type": "execute_result"
    }
   ],
   "source": [
    "#This displays the value count of the various categories\n",
    "fashion_df.category.value_counts()"
   ]
  },
  {
   "cell_type": "code",
   "execution_count": 6,
   "metadata": {},
   "outputs": [
    {
     "data": {
      "text/plain": [
       "10"
      ]
     },
     "execution_count": 6,
     "metadata": {},
     "output_type": "execute_result"
    }
   ],
   "source": [
    "#This displays the number of unique categories in the dataframe\n",
    "NO_OF_CLASSES = len(fashion_df.category.unique())\n",
    "NO_OF_CLASSES"
   ]
  },
  {
   "cell_type": "code",
   "execution_count": 7,
   "metadata": {},
   "outputs": [],
   "source": [
    "# check any text that are not processed yet\n",
    "def print_text(index):\n",
    "    example = fashion_df[fashion_df.index == index][['description', 'category']].values[0]\n",
    "    if len(example) > 0:\n",
    "        print('Description:',example[0])\n",
    "        print('Product:', example[1])\n",
    "        print()"
   ]
  },
  {
   "cell_type": "code",
   "execution_count": 8,
   "metadata": {},
   "outputs": [
    {
     "name": "stdout",
     "output_type": "stream",
     "text": [
      "Description: Ally 3/4 Spring Pullover\n",
      "Product: women outwear\n",
      "\n",
      "Description: Skinny-Fit Stretch Chino Pants\n",
      "Product: men trousers\n",
      "\n"
     ]
    }
   ],
   "source": [
    "# Examples of the text that is printed out using the index\n",
    "print_text(7)\n",
    "print_text(777)"
   ]
  },
  {
   "cell_type": "code",
   "execution_count": 9,
   "metadata": {},
   "outputs": [],
   "source": [
    "# constants set to replace these symbols from the text\n",
    "REPLACE_BY_SPACE = re.compile('[/(){}\\[\\]\\|@,;-]')\n",
    "BAD_SYMBOLS = re.compile('[^0-9a-z #+_]')\n",
    "STOPWORDS = set(stopwords.words('english'))"
   ]
  },
  {
   "cell_type": "code",
   "execution_count": 10,
   "metadata": {},
   "outputs": [],
   "source": [
    "#Function use to clean up the text\n",
    "def clean_text(text):\n",
    "\n",
    "    # Make all the text to lowercases\n",
    "    text = text.lower() \n",
    "    \n",
    "    # replace REPLACE_BY_SPACE symbols by space in text. substitute the matched string in REPLACE_BY_SPACE with space.\n",
    "    text = REPLACE_BY_SPACE.sub(' ', text) \n",
    "    \n",
    "    # remove symbols which are in BAD_SYMBOLS from text. substitute the matched string in BAD_SYMBOLS with nothing. \n",
    "    text = BAD_SYMBOLS.sub('', text) \n",
    "    \n",
    "    # remove stopwords from text\n",
    "    text = ' '.join(word for word in text.split() if word not in STOPWORDS)\n",
    "    \n",
    "    return text"
   ]
  },
  {
   "cell_type": "code",
   "execution_count": 11,
   "metadata": {},
   "outputs": [],
   "source": [
    "#Save the new description after cleaning the text\n",
    "fashion_df['description'] = fashion_df['description'].apply(clean_text)"
   ]
  },
  {
   "cell_type": "code",
   "execution_count": 12,
   "metadata": {},
   "outputs": [
    {
     "name": "stdout",
     "output_type": "stream",
     "text": [
      "Description: ally 3 4 spring pullover\n",
      "Product: women outwear\n",
      "\n",
      "Description: skinny fit stretch chino pants\n",
      "Product: men trousers\n",
      "\n"
     ]
    }
   ],
   "source": [
    "#Print out the example texts again for double checking.\n",
    "print_text(7)\n",
    "print_text(777)"
   ]
  },
  {
   "cell_type": "code",
   "execution_count": 13,
   "metadata": {},
   "outputs": [],
   "source": [
    "# The maximum number of words to be used. (most frequent)\n",
    "MAX_FEATURES = 20000\n",
    "# Max number of words in each description\n",
    "MAX_LENGTH = 50\n",
    "# This is fixed\n",
    "EMBEDDING_DIM = 100"
   ]
  },
  {
   "cell_type": "code",
   "execution_count": 14,
   "metadata": {},
   "outputs": [
    {
     "name": "stdout",
     "output_type": "stream",
     "text": [
      "Found 1569 unique tokens.\n"
     ]
    }
   ],
   "source": [
    "#Find the number of unique tokens\n",
    "tokenizer = Tokenizer(num_words=MAX_FEATURES, filters='!\"#$%&()*+,-./:;<=>?@[\\]^_`{|}~', lower=True)\n",
    "tokenizer.fit_on_texts(fashion_df['description'].values)\n",
    "word_index = tokenizer.word_index\n",
    "print('Found {} unique tokens.'.format(len(word_index)))"
   ]
  },
  {
   "cell_type": "code",
   "execution_count": 15,
   "metadata": {},
   "outputs": [
    {
     "name": "stdout",
     "output_type": "stream",
     "text": [
      "Shape of data tensor:(2000, 50)\n"
     ]
    }
   ],
   "source": [
    "#Gets the shape of the data tensor\n",
    "X = tokenizer.texts_to_sequences(fashion_df['description'].values)\n",
    "X = pad_sequences(X, maxlen = MAX_LENGTH)\n",
    "print('Shape of data tensor:{}'.format(X.shape))\n",
    "#X  #DEBUG"
   ]
  },
  {
   "cell_type": "code",
   "execution_count": 16,
   "metadata": {},
   "outputs": [
    {
     "name": "stdout",
     "output_type": "stream",
     "text": [
      "Shape of label tensor:(2000, 10)\n"
     ]
    }
   ],
   "source": [
    "#Gets the shape of the label tensor\n",
    "Y = pd.get_dummies(fashion_df['category']).values\n",
    "print('Shape of label tensor:{}'.format(Y.shape))"
   ]
  },
  {
   "cell_type": "code",
   "execution_count": 17,
   "metadata": {},
   "outputs": [
    {
     "data": {
      "text/plain": [
       "True"
      ]
     },
     "execution_count": 17,
     "metadata": {},
     "output_type": "execute_result"
    }
   ],
   "source": [
    "#Checks if the shape of the data tensor equal to the shape of the label tensor\n",
    "X.shape[0] == Y.shape[0]"
   ]
  },
  {
   "cell_type": "code",
   "execution_count": 18,
   "metadata": {},
   "outputs": [],
   "source": [
    "#Create the test and train sets\n",
    "X_train, X_test, Y_train, Y_test = train_test_split(X,Y, test_size = 0.10)"
   ]
  },
  {
   "cell_type": "code",
   "execution_count": 19,
   "metadata": {},
   "outputs": [
    {
     "name": "stdout",
     "output_type": "stream",
     "text": [
      "(1800, 50) (1800, 10)\n",
      "(200, 50) (200, 10)\n"
     ]
    }
   ],
   "source": [
    "#Print out the test and train set shapes\n",
    "print(X_train.shape,Y_train.shape)\n",
    "print(X_test.shape,Y_test.shape)"
   ]
  },
  {
   "cell_type": "code",
   "execution_count": 20,
   "metadata": {},
   "outputs": [
    {
     "name": "stdout",
     "output_type": "stream",
     "text": [
      "Model: \"sequential_1\"\n",
      "_________________________________________________________________\n",
      "Layer (type)                 Output Shape              Param #   \n",
      "=================================================================\n",
      "embedding_1 (Embedding)      (None, 50, 100)           2000000   \n",
      "_________________________________________________________________\n",
      "spatial_dropout1d_1 (Spatial (None, 50, 100)           0         \n",
      "_________________________________________________________________\n",
      "bidirectional_1 (Bidirection (None, 256)               234496    \n",
      "_________________________________________________________________\n",
      "dropout_1 (Dropout)          (None, 256)               0         \n",
      "_________________________________________________________________\n",
      "dense_1 (Dense)              (None, 10)                2570      \n",
      "=================================================================\n",
      "Total params: 2,237,066\n",
      "Trainable params: 2,237,066\n",
      "Non-trainable params: 0\n",
      "_________________________________________________________________\n"
     ]
    }
   ],
   "source": [
    "#Create and display the model\n",
    "model = Sequential()\n",
    "model.add(Embedding(MAX_FEATURES, EMBEDDING_DIM, input_length=X.shape[1]))\n",
    "model.add(SpatialDropout1D(0.2))\n",
    "model.add(Bidirectional(LSTM(128, dropout=0.2, recurrent_dropout=0.2)))\n",
    "model.add(Dropout(0.2))\n",
    "model.add(Dense(NO_OF_CLASSES, activation='softmax'))\n",
    "model.compile(loss='categorical_crossentropy', optimizer='adam', metrics=['accuracy'])\n",
    "model.summary()"
   ]
  },
  {
   "cell_type": "code",
   "execution_count": 21,
   "metadata": {},
   "outputs": [],
   "source": [
    "#Variables for epochs and batch size\n",
    "EPOCHS = 10\n",
    "BATCH_SIZE = 64"
   ]
  },
  {
   "cell_type": "code",
   "execution_count": 22,
   "metadata": {},
   "outputs": [
    {
     "name": "stderr",
     "output_type": "stream",
     "text": [
      "C:\\Users\\ValuedAcerCustomer\\.conda\\envs\\tensorflow\\lib\\site-packages\\tensorflow_core\\python\\framework\\indexed_slices.py:433: UserWarning: Converting sparse IndexedSlices to a dense Tensor of unknown shape. This may consume a large amount of memory.\n",
      "  \"Converting sparse IndexedSlices to a dense Tensor of unknown shape. \"\n"
     ]
    },
    {
     "name": "stdout",
     "output_type": "stream",
     "text": [
      "Train on 1620 samples, validate on 180 samples\n",
      "Epoch 1/10\n",
      "1620/1620 [==============================] - 9s 5ms/step - loss: 2.2768 - accuracy: 0.1333 - val_loss: 2.2396 - val_accuracy: 0.1056\n",
      "Epoch 2/10\n",
      "1620/1620 [==============================] - 6s 4ms/step - loss: 2.1491 - accuracy: 0.2722 - val_loss: 2.0047 - val_accuracy: 0.6556\n",
      "Epoch 3/10\n",
      "1620/1620 [==============================] - 6s 4ms/step - loss: 1.6713 - accuracy: 0.5895 - val_loss: 1.2384 - val_accuracy: 0.6778\n",
      "Epoch 4/10\n",
      "1620/1620 [==============================] - 6s 4ms/step - loss: 0.9643 - accuracy: 0.6778 - val_loss: 0.7378 - val_accuracy: 0.6889\n",
      "Epoch 5/10\n",
      "1620/1620 [==============================] - 6s 4ms/step - loss: 0.6715 - accuracy: 0.7198 - val_loss: 0.6467 - val_accuracy: 0.7444\n",
      "Epoch 6/10\n",
      "1620/1620 [==============================] - 6s 4ms/step - loss: 0.5527 - accuracy: 0.7765 - val_loss: 0.5582 - val_accuracy: 0.7556\n",
      "Epoch 7/10\n",
      "1620/1620 [==============================] - 6s 4ms/step - loss: 0.4444 - accuracy: 0.8333 - val_loss: 0.5252 - val_accuracy: 0.7667\n",
      "Epoch 8/10\n",
      "1620/1620 [==============================] - 6s 4ms/step - loss: 0.3837 - accuracy: 0.8599 - val_loss: 0.5326 - val_accuracy: 0.7667\n",
      "Epoch 9/10\n",
      "1620/1620 [==============================] - 6s 4ms/step - loss: 0.3224 - accuracy: 0.8815 - val_loss: 0.5259 - val_accuracy: 0.7667\n",
      "Epoch 10/10\n",
      "1620/1620 [==============================] - 6s 4ms/step - loss: 0.2661 - accuracy: 0.9043 - val_loss: 0.5289 - val_accuracy: 0.7889\n"
     ]
    }
   ],
   "source": [
    "#Train the model\n",
    "models = model.fit(X_train, Y_train, \n",
    "                   epochs=EPOCHS, batch_size=BATCH_SIZE,validation_split=0.1,\n",
    "                   callbacks=[EarlyStopping(monitor='val_loss', \n",
    "                                            patience=3, \n",
    "                                            min_delta=0.0001)])"
   ]
  },
  {
   "cell_type": "code",
   "execution_count": 23,
   "metadata": {},
   "outputs": [
    {
     "data": {
      "image/png": "[encoded data removed]",
      "text/plain": [
       "<Figure size 432x288 with 1 Axes>"
      ]
     },
     "metadata": {
      "needs_background": "light"
     },
     "output_type": "display_data"
    }
   ],
   "source": [
    "#Plot the Loss Graph of the model\n",
    "plt.title('Loss')\n",
    "plt.plot(models.history['loss'], label='train')\n",
    "plt.plot(models.history['val_loss'], label='test')\n",
    "plt.legend()\n",
    "plt.show()"
   ]
  },
  {
   "cell_type": "code",
   "execution_count": 24,
   "metadata": {},
   "outputs": [
    {
     "data": {
      "image/png": "[encoded data removed]",
      "text/plain": [
       "<Figure size 432x288 with 1 Axes>"
      ]
     },
     "metadata": {
      "needs_background": "light"
     },
     "output_type": "display_data"
    }
   ],
   "source": [
    "#Plot the accuracy graph of the model\n",
    "plt.title('Accuracy')\n",
    "plt.plot(models.history['accuracy'], label='train')\n",
    "plt.plot(models.history['val_accuracy'], label='test')\n",
    "plt.legend()\n",
    "plt.show()"
   ]
  },
  {
   "cell_type": "code",
   "execution_count": 25,
   "metadata": {},
   "outputs": [
    {
     "name": "stdout",
     "output_type": "stream",
     "text": [
      "200/200 [==============================] - 0s 939us/step\n",
      "Test set\n",
      "Loss: 0.48129\n",
      "Accuracy: 0.79500\n"
     ]
    }
   ],
   "source": [
    "#Evaluate the accuracy of the test set and print out both loss and accuracy of test set\n",
    "accuracy = model.evaluate(X_test,Y_test)\n",
    "#print('Test set\\nLoss: {}\\nAccuracy: {}'.format(accuracy[0],accuracy[1]))\n",
    "print('Test set\\nLoss: {:0.5f}\\nAccuracy: {:0.5f}'.format(accuracy[0],accuracy[1]))"
   ]
  },
  {
   "cell_type": "markdown",
   "metadata": {},
   "source": [
    "# Evaluation"
   ]
  },
  {
   "cell_type": "code",
   "execution_count": 26,
   "metadata": {},
   "outputs": [],
   "source": [
    "# preprocess test data\n",
    "\n",
    "yhat = model.predict(X_test, verbose=0)\n",
    "preds_labels = [[1 if x > 0.5 else 0 for idx,x in enumerate(i) ] for i in yhat]"
   ]
  },
  {
   "cell_type": "code",
   "execution_count": 27,
   "metadata": {},
   "outputs": [
    {
     "name": "stdout",
     "output_type": "stream",
     "text": [
      "[[[169   7]\n",
      "  [  5  19]]\n",
      "\n",
      " [[191   0]\n",
      "  [  4   5]]\n",
      "\n",
      " [[176   8]\n",
      "  [  4  12]]\n",
      "\n",
      " [[174   3]\n",
      "  [  4  19]]\n",
      "\n",
      " [[178   0]\n",
      "  [  0  22]]\n",
      "\n",
      " [[173   5]\n",
      "  [  9  13]]\n",
      "\n",
      " [[180   4]\n",
      "  [  0  16]]\n",
      "\n",
      " [[176   0]\n",
      "  [  0  24]]\n",
      "\n",
      " [[173   3]\n",
      "  [ 12  12]]\n",
      "\n",
      " [[176   4]\n",
      "  [  4  16]]]\n"
     ]
    }
   ],
   "source": [
    "print(multilabel_confusion_matrix(Y_test, preds_labels))"
   ]
  },
  {
   "cell_type": "code",
   "execution_count": 28,
   "metadata": {},
   "outputs": [
    {
     "name": "stdout",
     "output_type": "stream",
     "text": [
      "ROC-AUC Score: 0.8812460717062738\n"
     ]
    }
   ],
   "source": [
    "#Get the ROC-AUC Score\n",
    "#print(average_precision_score(y_test, preds_labels))\n",
    "#print(f1_score(y_test, preds_labels, average='micro'))\n",
    "print('ROC-AUC Score:', roc_auc_score(Y_test, preds_labels))"
   ]
  },
  {
   "cell_type": "markdown",
   "metadata": {},
   "source": [
    "# ----- Just for fun -----"
   ]
  },
  {
   "cell_type": "code",
   "execution_count": 29,
   "metadata": {},
   "outputs": [],
   "source": [
    "# Test with new text description\n",
    "\n",
    "TEXT = [\"He is wearing a dark blue t-shirt\"]"
   ]
  },
  {
   "cell_type": "code",
   "execution_count": 30,
   "metadata": {},
   "outputs": [],
   "source": [
    "new_description = TEXT\n",
    "seq = tokenizer.texts_to_sequences(new_description)\n",
    "padded = pad_sequences(seq, maxlen=MAX_LENGTH)\n",
    "pred = model.predict(padded)"
   ]
  },
  {
   "cell_type": "code",
   "execution_count": 31,
   "metadata": {},
   "outputs": [
    {
     "data": {
      "text/plain": [
       "['women dresses',\n",
       " 'women skirts',\n",
       " 'men outwear',\n",
       " 'men tops',\n",
       " 'women outwear',\n",
       " 'men trousers',\n",
       " 'women trousers',\n",
       " 'women shorts',\n",
       " 'men shorts',\n",
       " 'women tops']"
      ]
     },
     "execution_count": 31,
     "metadata": {},
     "output_type": "execute_result"
    }
   ],
   "source": [
    "labels = fashion_df.category.unique().tolist()\n",
    "labels"
   ]
  },
  {
   "cell_type": "code",
   "execution_count": 32,
   "metadata": {},
   "outputs": [
    {
     "name": "stdout",
     "output_type": "stream",
     "text": [
      "[[2.5522783e-03 2.2666915e-03 9.2007732e-01 6.2889182e-03 7.8757839e-05\n",
      "  8.8706776e-04 1.0625016e-03 3.6036377e-05 6.3934758e-02 2.8155034e-03]]\n",
      "men outwear\n"
     ]
    }
   ],
   "source": [
    "print(pred)\n",
    "print(labels[np.argmax(pred)])"
   ]
  },
  {
   "cell_type": "markdown",
   "metadata": {},
   "source": [
    "# ----- END -----"
   ]
  },
  {
   "cell_type": "code",
   "execution_count": null,
   "metadata": {},
   "outputs": [],
   "source": []
  }
 ],
 "metadata": {
  "kernelspec": {
   "display_name": "Python 3",
   "language": "python",
   "name": "python3"
  },
  "language_info": {
   "codemirror_mode": {
    "name": "ipython",
    "version": 3
   },
   "file_extension": ".py",
   "mimetype": "text/x-python",
   "name": "python",
   "nbconvert_exporter": "python",
   "pygments_lexer": "ipython3",
   "version": "3.7.7"
  }
 },
 "nbformat": 4,
 "nbformat_minor": 4
}
